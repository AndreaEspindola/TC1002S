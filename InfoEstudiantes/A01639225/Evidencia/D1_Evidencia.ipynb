{
 "cells": [
  {
   "cell_type": "markdown",
   "metadata": {},
   "source": [
    "# TC1002S Herramientas computacionales: el arte de la analítica\n",
    "\n",
    "This is a notebook with all your work for the final evidence of this course\n",
    "\n",
    "\n",
    "# Niveles de dominio a demostrar con la evidencia\n",
    "\n",
    "### SING0202A\n",
    "\n",
    "Interpreta interacciones entre variables relevantes en un problema, como base para la construcción de modelos bivariados basados en datos de un fenómeno investigado que le permita reproducir la respuesta del mismo. Es capaz de construir modelos bivariados que expliquen el comportamiento de un fenómeno.\n",
    "\n",
    "\n",
    "# Student information\n",
    "\n",
    "- Name: Carla Morales López\n",
    "\n",
    "- ID: A01639225\n",
    "\n",
    "- My carreer: ITC\n"
   ]
  },
  {
   "cell_type": "markdown",
   "metadata": {},
   "source": [
    "# Importing libraries"
   ]
  },
  {
   "cell_type": "code",
   "execution_count": 1130,
   "metadata": {},
   "outputs": [],
   "source": [
    "import pandas as pd                 # For data handling\n",
    "import seaborn             # For advanced plotting\n",
    "import matplotlib.pyplot as plt     # For showing plots\n"
   ]
  },
  {
   "cell_type": "markdown",
   "metadata": {},
   "source": [
    "# A1 Load data"
   ]
  },
  {
   "cell_type": "code",
   "execution_count": 1131,
   "metadata": {},
   "outputs": [],
   "source": [
    "# url string that hosts our .csv file\n",
    "url = \"A01639225.csv\"\n",
    "\n",
    "# Read the .csv file and store it as a pandas Data Frame\n",
    "dataset = pd.read_csv(url,index_col=0)"
   ]
  },
  {
   "cell_type": "markdown",
   "metadata": {},
   "source": [
    "# A2 Data managment\n"
   ]
  },
  {
   "cell_type": "markdown",
   "metadata": {},
   "source": [
    "Print the first 7 rows"
   ]
  },
  {
   "cell_type": "code",
   "execution_count": 1132,
   "metadata": {},
   "outputs": [
    {
     "data": {
      "text/plain": "         x1        x2        x3        x4\n0 -5.778011  1.503022  2.590017  5.699886\n1 -3.591031  1.371241  5.447346  3.402790\n2 -7.750257  3.484306 -0.262432  5.145441\n3 -7.393745 -0.245431  0.257993  4.424077\n4  4.351650  5.825122  8.467202  0.569120\n5  1.431957  7.605383  8.598214 -1.417572\n6 -4.716907  1.987029  0.674649  6.160829",
      "text/html": "<div>\n<style scoped>\n    .dataframe tbody tr th:only-of-type {\n        vertical-align: middle;\n    }\n\n    .dataframe tbody tr th {\n        vertical-align: top;\n    }\n\n    .dataframe thead th {\n        text-align: right;\n    }\n</style>\n<table border=\"1\" class=\"dataframe\">\n  <thead>\n    <tr style=\"text-align: right;\">\n      <th></th>\n      <th>x1</th>\n      <th>x2</th>\n      <th>x3</th>\n      <th>x4</th>\n    </tr>\n  </thead>\n  <tbody>\n    <tr>\n      <th>0</th>\n      <td>-5.778011</td>\n      <td>1.503022</td>\n      <td>2.590017</td>\n      <td>5.699886</td>\n    </tr>\n    <tr>\n      <th>1</th>\n      <td>-3.591031</td>\n      <td>1.371241</td>\n      <td>5.447346</td>\n      <td>3.402790</td>\n    </tr>\n    <tr>\n      <th>2</th>\n      <td>-7.750257</td>\n      <td>3.484306</td>\n      <td>-0.262432</td>\n      <td>5.145441</td>\n    </tr>\n    <tr>\n      <th>3</th>\n      <td>-7.393745</td>\n      <td>-0.245431</td>\n      <td>0.257993</td>\n      <td>4.424077</td>\n    </tr>\n    <tr>\n      <th>4</th>\n      <td>4.351650</td>\n      <td>5.825122</td>\n      <td>8.467202</td>\n      <td>0.569120</td>\n    </tr>\n    <tr>\n      <th>5</th>\n      <td>1.431957</td>\n      <td>7.605383</td>\n      <td>8.598214</td>\n      <td>-1.417572</td>\n    </tr>\n    <tr>\n      <th>6</th>\n      <td>-4.716907</td>\n      <td>1.987029</td>\n      <td>0.674649</td>\n      <td>6.160829</td>\n    </tr>\n  </tbody>\n</table>\n</div>"
     },
     "execution_count": 1132,
     "metadata": {},
     "output_type": "execute_result"
    }
   ],
   "source": [
    "dataset.head(7)"
   ]
  },
  {
   "cell_type": "markdown",
   "metadata": {},
   "source": [
    "Print the first 4 last rows"
   ]
  },
  {
   "cell_type": "code",
   "execution_count": 1133,
   "metadata": {},
   "outputs": [
    {
     "data": {
      "text/plain": "           x1        x2        x3        x4\n221 -2.566798  0.995897  5.768739  7.266262\n222 -5.010173  5.009064  2.592797  6.185452\n223  4.720064  1.741084  8.072480 -0.380510\n224  1.703520  3.213030  7.469596 -0.200190",
      "text/html": "<div>\n<style scoped>\n    .dataframe tbody tr th:only-of-type {\n        vertical-align: middle;\n    }\n\n    .dataframe tbody tr th {\n        vertical-align: top;\n    }\n\n    .dataframe thead th {\n        text-align: right;\n    }\n</style>\n<table border=\"1\" class=\"dataframe\">\n  <thead>\n    <tr style=\"text-align: right;\">\n      <th></th>\n      <th>x1</th>\n      <th>x2</th>\n      <th>x3</th>\n      <th>x4</th>\n    </tr>\n  </thead>\n  <tbody>\n    <tr>\n      <th>221</th>\n      <td>-2.566798</td>\n      <td>0.995897</td>\n      <td>5.768739</td>\n      <td>7.266262</td>\n    </tr>\n    <tr>\n      <th>222</th>\n      <td>-5.010173</td>\n      <td>5.009064</td>\n      <td>2.592797</td>\n      <td>6.185452</td>\n    </tr>\n    <tr>\n      <th>223</th>\n      <td>4.720064</td>\n      <td>1.741084</td>\n      <td>8.072480</td>\n      <td>-0.380510</td>\n    </tr>\n    <tr>\n      <th>224</th>\n      <td>1.703520</td>\n      <td>3.213030</td>\n      <td>7.469596</td>\n      <td>-0.200190</td>\n    </tr>\n  </tbody>\n</table>\n</div>"
     },
     "execution_count": 1133,
     "metadata": {},
     "output_type": "execute_result"
    }
   ],
   "source": [
    "dataset.tail(4)"
   ]
  },
  {
   "cell_type": "markdown",
   "metadata": {},
   "source": [
    "How many rows and columns are in your data?\n",
    "\n",
    "Use the `shape` method\n"
   ]
  },
  {
   "cell_type": "code",
   "execution_count": 1134,
   "metadata": {},
   "outputs": [
    {
     "name": "stdout",
     "output_type": "stream",
     "text": [
      "(225, 4)\n"
     ]
    }
   ],
   "source": [
    "print(dataset.shape) # 225 Rows & 4 Columns we used the extra initial column as the index"
   ]
  },
  {
   "cell_type": "markdown",
   "metadata": {},
   "source": [
    "Print the name of all columns \n",
    "\n",
    "Use the `columns` method"
   ]
  },
  {
   "cell_type": "code",
   "execution_count": 1135,
   "metadata": {},
   "outputs": [
    {
     "name": "stdout",
     "output_type": "stream",
     "text": [
      "x1\n",
      "x2\n",
      "x3\n",
      "x4\n"
     ]
    }
   ],
   "source": [
    "for c in dataset.columns:\n",
    "    print(c)"
   ]
  },
  {
   "cell_type": "markdown",
   "metadata": {},
   "source": [
    "What is the data type in each column\n",
    "\n",
    "Use the `dtypes` method "
   ]
  },
  {
   "cell_type": "code",
   "execution_count": 1136,
   "metadata": {},
   "outputs": [
    {
     "name": "stdout",
     "output_type": "stream",
     "text": [
      "x1    float64\n",
      "x2    float64\n",
      "x3    float64\n",
      "x4    float64\n",
      "dtype: object\n"
     ]
    }
   ],
   "source": [
    "print(dataset.dtypes)"
   ]
  },
  {
   "cell_type": "markdown",
   "metadata": {},
   "source": [
    "What is the meaning of rows and columns?\n",
    "\n",
    "Each row (observation) represents a data entry.\n",
    "The first column represents the index of said observations and the rest represent variables to be analized."
   ]
  },
  {
   "cell_type": "markdown",
   "metadata": {},
   "source": [
    "Print a statistical summary of your columns"
   ]
  },
  {
   "cell_type": "code",
   "execution_count": 1137,
   "metadata": {},
   "outputs": [
    {
     "data": {
      "text/plain": "               x1          x2          x3          x4\ncount  225.000000  225.000000  225.000000  225.000000\nmean    -2.799248    3.010290    4.364271    3.685848\nstd      4.228038    1.894951    3.086125    3.309750\nmin     -8.819949   -2.565050   -3.200093   -4.212029\n25%     -5.913947    1.816420    1.583163    0.613692\n50%     -4.704893    3.085046    5.326377    4.713465\n75%      1.447431    4.408180    6.718345    6.185452\nmax      6.493716    7.605383   10.610312    9.137513",
      "text/html": "<div>\n<style scoped>\n    .dataframe tbody tr th:only-of-type {\n        vertical-align: middle;\n    }\n\n    .dataframe tbody tr th {\n        vertical-align: top;\n    }\n\n    .dataframe thead th {\n        text-align: right;\n    }\n</style>\n<table border=\"1\" class=\"dataframe\">\n  <thead>\n    <tr style=\"text-align: right;\">\n      <th></th>\n      <th>x1</th>\n      <th>x2</th>\n      <th>x3</th>\n      <th>x4</th>\n    </tr>\n  </thead>\n  <tbody>\n    <tr>\n      <th>count</th>\n      <td>225.000000</td>\n      <td>225.000000</td>\n      <td>225.000000</td>\n      <td>225.000000</td>\n    </tr>\n    <tr>\n      <th>mean</th>\n      <td>-2.799248</td>\n      <td>3.010290</td>\n      <td>4.364271</td>\n      <td>3.685848</td>\n    </tr>\n    <tr>\n      <th>std</th>\n      <td>4.228038</td>\n      <td>1.894951</td>\n      <td>3.086125</td>\n      <td>3.309750</td>\n    </tr>\n    <tr>\n      <th>min</th>\n      <td>-8.819949</td>\n      <td>-2.565050</td>\n      <td>-3.200093</td>\n      <td>-4.212029</td>\n    </tr>\n    <tr>\n      <th>25%</th>\n      <td>-5.913947</td>\n      <td>1.816420</td>\n      <td>1.583163</td>\n      <td>0.613692</td>\n    </tr>\n    <tr>\n      <th>50%</th>\n      <td>-4.704893</td>\n      <td>3.085046</td>\n      <td>5.326377</td>\n      <td>4.713465</td>\n    </tr>\n    <tr>\n      <th>75%</th>\n      <td>1.447431</td>\n      <td>4.408180</td>\n      <td>6.718345</td>\n      <td>6.185452</td>\n    </tr>\n    <tr>\n      <th>max</th>\n      <td>6.493716</td>\n      <td>7.605383</td>\n      <td>10.610312</td>\n      <td>9.137513</td>\n    </tr>\n  </tbody>\n</table>\n</div>"
     },
     "execution_count": 1137,
     "metadata": {},
     "output_type": "execute_result"
    }
   ],
   "source": [
    "dataset.describe()"
   ]
  },
  {
   "cell_type": "code",
   "execution_count": 1138,
   "metadata": {},
   "outputs": [
    {
     "data": {
      "text/plain": "x1   -8.819949\nx2   -2.565050\nx3   -3.200093\nx4   -4.212029\ndtype: float64"
     },
     "execution_count": 1138,
     "metadata": {},
     "output_type": "execute_result"
    }
   ],
   "source": [
    "# 1) What is the minimum and maximum values of each variable\n",
    "dataset.min() # Minimum"
   ]
  },
  {
   "cell_type": "code",
   "execution_count": 1139,
   "outputs": [
    {
     "data": {
      "text/plain": "x1     6.493716\nx2     7.605383\nx3    10.610312\nx4     9.137513\ndtype: float64"
     },
     "execution_count": 1139,
     "metadata": {},
     "output_type": "execute_result"
    }
   ],
   "source": [
    "dataset.max() # Maximum"
   ],
   "metadata": {
    "collapsed": false,
    "pycharm": {
     "name": "#%%\n"
    }
   }
  },
  {
   "cell_type": "code",
   "execution_count": 1140,
   "outputs": [
    {
     "data": {
      "text/plain": "x1   -2.799248\nx2    3.010290\nx3    4.364271\nx4    3.685848\ndtype: float64"
     },
     "execution_count": 1140,
     "metadata": {},
     "output_type": "execute_result"
    }
   ],
   "source": [
    "# 2) What is the mean and standard deviation of each variable\n",
    "dataset.mean() # Mean"
   ],
   "metadata": {
    "collapsed": false,
    "pycharm": {
     "name": "#%%\n"
    }
   }
  },
  {
   "cell_type": "code",
   "execution_count": 1141,
   "outputs": [
    {
     "data": {
      "text/plain": "x1    4.228038\nx2    1.894951\nx3    3.086125\nx4    3.309750\ndtype: float64"
     },
     "execution_count": 1141,
     "metadata": {},
     "output_type": "execute_result"
    }
   ],
   "source": [
    "dataset.std()  # Standard Deviation"
   ],
   "metadata": {
    "collapsed": false,
    "pycharm": {
     "name": "#%%\n"
    }
   }
  },
  {
   "cell_type": "markdown",
   "source": [
    "3) What the 25%, 50% and 75% represent?\n",
    "\n",
    "They represent the 25th, 50th, and 75th percentiles, numbers that split a set of statistical data in such a way that a proportion of the data falls below that number."
   ],
   "metadata": {
    "collapsed": false,
    "pycharm": {
     "name": "#%% md\n"
    }
   }
  },
  {
   "cell_type": "markdown",
   "metadata": {},
   "source": [
    "Rename the columns using the same name with capital letters"
   ]
  },
  {
   "cell_type": "code",
   "execution_count": 1142,
   "metadata": {},
   "outputs": [
    {
     "data": {
      "text/plain": "           X1        X2        X3        X4\n0   -5.778011  1.503022  2.590017  5.699886\n1   -3.591031  1.371241  5.447346  3.402790\n2   -7.750257  3.484306 -0.262432  5.145441\n3   -7.393745 -0.245431  0.257993  4.424077\n4    4.351650  5.825122  8.467202  0.569120\n..        ...       ...       ...       ...\n220 -7.630826  1.888713  1.330885  7.491348\n221 -2.566798  0.995897  5.768739  7.266262\n222 -5.010173  5.009064  2.592797  6.185452\n223  4.720064  1.741084  8.072480 -0.380510\n224  1.703520  3.213030  7.469596 -0.200190\n\n[225 rows x 4 columns]",
      "text/html": "<div>\n<style scoped>\n    .dataframe tbody tr th:only-of-type {\n        vertical-align: middle;\n    }\n\n    .dataframe tbody tr th {\n        vertical-align: top;\n    }\n\n    .dataframe thead th {\n        text-align: right;\n    }\n</style>\n<table border=\"1\" class=\"dataframe\">\n  <thead>\n    <tr style=\"text-align: right;\">\n      <th></th>\n      <th>X1</th>\n      <th>X2</th>\n      <th>X3</th>\n      <th>X4</th>\n    </tr>\n  </thead>\n  <tbody>\n    <tr>\n      <th>0</th>\n      <td>-5.778011</td>\n      <td>1.503022</td>\n      <td>2.590017</td>\n      <td>5.699886</td>\n    </tr>\n    <tr>\n      <th>1</th>\n      <td>-3.591031</td>\n      <td>1.371241</td>\n      <td>5.447346</td>\n      <td>3.402790</td>\n    </tr>\n    <tr>\n      <th>2</th>\n      <td>-7.750257</td>\n      <td>3.484306</td>\n      <td>-0.262432</td>\n      <td>5.145441</td>\n    </tr>\n    <tr>\n      <th>3</th>\n      <td>-7.393745</td>\n      <td>-0.245431</td>\n      <td>0.257993</td>\n      <td>4.424077</td>\n    </tr>\n    <tr>\n      <th>4</th>\n      <td>4.351650</td>\n      <td>5.825122</td>\n      <td>8.467202</td>\n      <td>0.569120</td>\n    </tr>\n    <tr>\n      <th>...</th>\n      <td>...</td>\n      <td>...</td>\n      <td>...</td>\n      <td>...</td>\n    </tr>\n    <tr>\n      <th>220</th>\n      <td>-7.630826</td>\n      <td>1.888713</td>\n      <td>1.330885</td>\n      <td>7.491348</td>\n    </tr>\n    <tr>\n      <th>221</th>\n      <td>-2.566798</td>\n      <td>0.995897</td>\n      <td>5.768739</td>\n      <td>7.266262</td>\n    </tr>\n    <tr>\n      <th>222</th>\n      <td>-5.010173</td>\n      <td>5.009064</td>\n      <td>2.592797</td>\n      <td>6.185452</td>\n    </tr>\n    <tr>\n      <th>223</th>\n      <td>4.720064</td>\n      <td>1.741084</td>\n      <td>8.072480</td>\n      <td>-0.380510</td>\n    </tr>\n    <tr>\n      <th>224</th>\n      <td>1.703520</td>\n      <td>3.213030</td>\n      <td>7.469596</td>\n      <td>-0.200190</td>\n    </tr>\n  </tbody>\n</table>\n<p>225 rows × 4 columns</p>\n</div>"
     },
     "execution_count": 1142,
     "metadata": {},
     "output_type": "execute_result"
    }
   ],
   "source": [
    "dataset.rename(columns={\"x1\": \"X1\", \"x2\": \"X2\",\"x3\": \"X3\",\"x4\": \"X4\"}, inplace=True)\n",
    "dataset"
   ]
  },
  {
   "cell_type": "markdown",
   "metadata": {},
   "source": [
    "Rename the columns to their original names"
   ]
  },
  {
   "cell_type": "code",
   "execution_count": 1143,
   "metadata": {},
   "outputs": [
    {
     "data": {
      "text/plain": "           x1        x2        x3        x4\n0   -5.778011  1.503022  2.590017  5.699886\n1   -3.591031  1.371241  5.447346  3.402790\n2   -7.750257  3.484306 -0.262432  5.145441\n3   -7.393745 -0.245431  0.257993  4.424077\n4    4.351650  5.825122  8.467202  0.569120\n..        ...       ...       ...       ...\n220 -7.630826  1.888713  1.330885  7.491348\n221 -2.566798  0.995897  5.768739  7.266262\n222 -5.010173  5.009064  2.592797  6.185452\n223  4.720064  1.741084  8.072480 -0.380510\n224  1.703520  3.213030  7.469596 -0.200190\n\n[225 rows x 4 columns]",
      "text/html": "<div>\n<style scoped>\n    .dataframe tbody tr th:only-of-type {\n        vertical-align: middle;\n    }\n\n    .dataframe tbody tr th {\n        vertical-align: top;\n    }\n\n    .dataframe thead th {\n        text-align: right;\n    }\n</style>\n<table border=\"1\" class=\"dataframe\">\n  <thead>\n    <tr style=\"text-align: right;\">\n      <th></th>\n      <th>x1</th>\n      <th>x2</th>\n      <th>x3</th>\n      <th>x4</th>\n    </tr>\n  </thead>\n  <tbody>\n    <tr>\n      <th>0</th>\n      <td>-5.778011</td>\n      <td>1.503022</td>\n      <td>2.590017</td>\n      <td>5.699886</td>\n    </tr>\n    <tr>\n      <th>1</th>\n      <td>-3.591031</td>\n      <td>1.371241</td>\n      <td>5.447346</td>\n      <td>3.402790</td>\n    </tr>\n    <tr>\n      <th>2</th>\n      <td>-7.750257</td>\n      <td>3.484306</td>\n      <td>-0.262432</td>\n      <td>5.145441</td>\n    </tr>\n    <tr>\n      <th>3</th>\n      <td>-7.393745</td>\n      <td>-0.245431</td>\n      <td>0.257993</td>\n      <td>4.424077</td>\n    </tr>\n    <tr>\n      <th>4</th>\n      <td>4.351650</td>\n      <td>5.825122</td>\n      <td>8.467202</td>\n      <td>0.569120</td>\n    </tr>\n    <tr>\n      <th>...</th>\n      <td>...</td>\n      <td>...</td>\n      <td>...</td>\n      <td>...</td>\n    </tr>\n    <tr>\n      <th>220</th>\n      <td>-7.630826</td>\n      <td>1.888713</td>\n      <td>1.330885</td>\n      <td>7.491348</td>\n    </tr>\n    <tr>\n      <th>221</th>\n      <td>-2.566798</td>\n      <td>0.995897</td>\n      <td>5.768739</td>\n      <td>7.266262</td>\n    </tr>\n    <tr>\n      <th>222</th>\n      <td>-5.010173</td>\n      <td>5.009064</td>\n      <td>2.592797</td>\n      <td>6.185452</td>\n    </tr>\n    <tr>\n      <th>223</th>\n      <td>4.720064</td>\n      <td>1.741084</td>\n      <td>8.072480</td>\n      <td>-0.380510</td>\n    </tr>\n    <tr>\n      <th>224</th>\n      <td>1.703520</td>\n      <td>3.213030</td>\n      <td>7.469596</td>\n      <td>-0.200190</td>\n    </tr>\n  </tbody>\n</table>\n<p>225 rows × 4 columns</p>\n</div>"
     },
     "execution_count": 1143,
     "metadata": {},
     "output_type": "execute_result"
    }
   ],
   "source": [
    "dataset.rename(columns={\"X1\": \"x1\", \"X2\": \"x2\",\"X3\": \"x3\",\"X4\": \"x4\"}, inplace=True)\n",
    "dataset"
   ]
  },
  {
   "cell_type": "markdown",
   "metadata": {},
   "source": [
    "Use two different alternatives to get one of the columns"
   ]
  },
  {
   "cell_type": "code",
   "execution_count": 1144,
   "metadata": {},
   "outputs": [
    {
     "data": {
      "text/plain": "0     -5.778011\n1     -3.591031\n2     -7.750257\n3     -7.393745\n4      4.351650\n         ...   \n220   -7.630826\n221   -2.566798\n222   -5.010173\n223    4.720064\n224    1.703520\nName: x1, Length: 225, dtype: float64"
     },
     "execution_count": 1144,
     "metadata": {},
     "output_type": "execute_result"
    }
   ],
   "source": [
    "dataset.x1 # Alternative 1"
   ]
  },
  {
   "cell_type": "code",
   "execution_count": 1145,
   "outputs": [
    {
     "data": {
      "text/plain": "0     -5.778011\n1     -3.591031\n2     -7.750257\n3     -7.393745\n4      4.351650\n         ...   \n220   -7.630826\n221   -2.566798\n222   -5.010173\n223    4.720064\n224    1.703520\nName: x1, Length: 225, dtype: float64"
     },
     "execution_count": 1145,
     "metadata": {},
     "output_type": "execute_result"
    }
   ],
   "source": [
    "dataset[\"x1\"] # Alternative 2"
   ],
   "metadata": {
    "collapsed": false,
    "pycharm": {
     "name": "#%%\n"
    }
   }
  },
  {
   "cell_type": "code",
   "execution_count": 1146,
   "outputs": [
    {
     "data": {
      "text/plain": "0     -5.778011\n1     -3.591031\n2     -7.750257\n3     -7.393745\n4      4.351650\n         ...   \n220   -7.630826\n221   -2.566798\n222   -5.010173\n223    4.720064\n224    1.703520\nName: x1, Length: 225, dtype: float64"
     },
     "execution_count": 1146,
     "metadata": {},
     "output_type": "execute_result"
    }
   ],
   "source": [
    "dataset.iloc[:,0] # Alternative 3"
   ],
   "metadata": {
    "collapsed": false,
    "pycharm": {
     "name": "#%%\n"
    }
   }
  },
  {
   "cell_type": "markdown",
   "metadata": {},
   "source": [
    "Get a slice of your data set: second and third columns and rows from 62 to 72"
   ]
  },
  {
   "cell_type": "code",
   "execution_count": 1147,
   "metadata": {},
   "outputs": [
    {
     "data": {
      "text/plain": "          x2        x3\n62  4.096911  5.999602\n63  3.678919  6.646461\n64  5.031785  2.110432\n65  3.521989  2.213463\n66  0.831066  6.410550\n67  2.625017  1.690333\n68  2.045291  6.261710\n69  1.385742  4.977328\n70  2.260855  1.865225\n71  2.605968  6.044252\n72  0.221732  6.241247",
      "text/html": "<div>\n<style scoped>\n    .dataframe tbody tr th:only-of-type {\n        vertical-align: middle;\n    }\n\n    .dataframe tbody tr th {\n        vertical-align: top;\n    }\n\n    .dataframe thead th {\n        text-align: right;\n    }\n</style>\n<table border=\"1\" class=\"dataframe\">\n  <thead>\n    <tr style=\"text-align: right;\">\n      <th></th>\n      <th>x2</th>\n      <th>x3</th>\n    </tr>\n  </thead>\n  <tbody>\n    <tr>\n      <th>62</th>\n      <td>4.096911</td>\n      <td>5.999602</td>\n    </tr>\n    <tr>\n      <th>63</th>\n      <td>3.678919</td>\n      <td>6.646461</td>\n    </tr>\n    <tr>\n      <th>64</th>\n      <td>5.031785</td>\n      <td>2.110432</td>\n    </tr>\n    <tr>\n      <th>65</th>\n      <td>3.521989</td>\n      <td>2.213463</td>\n    </tr>\n    <tr>\n      <th>66</th>\n      <td>0.831066</td>\n      <td>6.410550</td>\n    </tr>\n    <tr>\n      <th>67</th>\n      <td>2.625017</td>\n      <td>1.690333</td>\n    </tr>\n    <tr>\n      <th>68</th>\n      <td>2.045291</td>\n      <td>6.261710</td>\n    </tr>\n    <tr>\n      <th>69</th>\n      <td>1.385742</td>\n      <td>4.977328</td>\n    </tr>\n    <tr>\n      <th>70</th>\n      <td>2.260855</td>\n      <td>1.865225</td>\n    </tr>\n    <tr>\n      <th>71</th>\n      <td>2.605968</td>\n      <td>6.044252</td>\n    </tr>\n    <tr>\n      <th>72</th>\n      <td>0.221732</td>\n      <td>6.241247</td>\n    </tr>\n  </tbody>\n</table>\n</div>"
     },
     "execution_count": 1147,
     "metadata": {},
     "output_type": "execute_result"
    }
   ],
   "source": [
    "dataset.iloc[62:73, 1:3]"
   ]
  },
  {
   "cell_type": "markdown",
   "metadata": {},
   "source": [
    "For the second and third columns, calculate the number of null and not null values and verify that their sum equals the total number of rows"
   ]
  },
  {
   "cell_type": "code",
   "execution_count": 1148,
   "metadata": {},
   "outputs": [
    {
     "name": "stdout",
     "output_type": "stream",
     "text": [
      "x2    True\n",
      "x3    True\n",
      "dtype: bool\n"
     ]
    }
   ],
   "source": [
    "null_items = dataset.iloc[:,1:3].isnull().sum()\n",
    "not_null_items = dataset.iloc[:,1:3].notnull().sum()\n",
    "\n",
    "print((null_items+not_null_items) == len(dataset.index))\n"
   ]
  },
  {
   "cell_type": "markdown",
   "metadata": {},
   "source": [
    "Discard the last column"
   ]
  },
  {
   "cell_type": "code",
   "execution_count": 1149,
   "metadata": {},
   "outputs": [
    {
     "data": {
      "text/plain": "           x1        x2        x3\n0   -5.778011  1.503022  2.590017\n1   -3.591031  1.371241  5.447346\n2   -7.750257  3.484306 -0.262432\n3   -7.393745 -0.245431  0.257993\n4    4.351650  5.825122  8.467202\n..        ...       ...       ...\n220 -7.630826  1.888713  1.330885\n221 -2.566798  0.995897  5.768739\n222 -5.010173  5.009064  2.592797\n223  4.720064  1.741084  8.072480\n224  1.703520  3.213030  7.469596\n\n[225 rows x 3 columns]",
      "text/html": "<div>\n<style scoped>\n    .dataframe tbody tr th:only-of-type {\n        vertical-align: middle;\n    }\n\n    .dataframe tbody tr th {\n        vertical-align: top;\n    }\n\n    .dataframe thead th {\n        text-align: right;\n    }\n</style>\n<table border=\"1\" class=\"dataframe\">\n  <thead>\n    <tr style=\"text-align: right;\">\n      <th></th>\n      <th>x1</th>\n      <th>x2</th>\n      <th>x3</th>\n    </tr>\n  </thead>\n  <tbody>\n    <tr>\n      <th>0</th>\n      <td>-5.778011</td>\n      <td>1.503022</td>\n      <td>2.590017</td>\n    </tr>\n    <tr>\n      <th>1</th>\n      <td>-3.591031</td>\n      <td>1.371241</td>\n      <td>5.447346</td>\n    </tr>\n    <tr>\n      <th>2</th>\n      <td>-7.750257</td>\n      <td>3.484306</td>\n      <td>-0.262432</td>\n    </tr>\n    <tr>\n      <th>3</th>\n      <td>-7.393745</td>\n      <td>-0.245431</td>\n      <td>0.257993</td>\n    </tr>\n    <tr>\n      <th>4</th>\n      <td>4.351650</td>\n      <td>5.825122</td>\n      <td>8.467202</td>\n    </tr>\n    <tr>\n      <th>...</th>\n      <td>...</td>\n      <td>...</td>\n      <td>...</td>\n    </tr>\n    <tr>\n      <th>220</th>\n      <td>-7.630826</td>\n      <td>1.888713</td>\n      <td>1.330885</td>\n    </tr>\n    <tr>\n      <th>221</th>\n      <td>-2.566798</td>\n      <td>0.995897</td>\n      <td>5.768739</td>\n    </tr>\n    <tr>\n      <th>222</th>\n      <td>-5.010173</td>\n      <td>5.009064</td>\n      <td>2.592797</td>\n    </tr>\n    <tr>\n      <th>223</th>\n      <td>4.720064</td>\n      <td>1.741084</td>\n      <td>8.072480</td>\n    </tr>\n    <tr>\n      <th>224</th>\n      <td>1.703520</td>\n      <td>3.213030</td>\n      <td>7.469596</td>\n    </tr>\n  </tbody>\n</table>\n<p>225 rows × 3 columns</p>\n</div>"
     },
     "execution_count": 1149,
     "metadata": {},
     "output_type": "execute_result"
    }
   ],
   "source": [
    "dataset.drop(dataset.columns[-1],axis='columns',inplace=True)\n",
    "dataset"
   ]
  },
  {
   "cell_type": "markdown",
   "metadata": {},
   "source": [
    "### Questions \n",
    "\n",
    "Based on the previous results, provide a description of your dataset\n",
    "\n",
    "Your response:\n",
    "\n",
    "\n",
    "The given dataset has a total of:\n",
    "- 255 Rows (Observations)\n",
    "- 5 Columns (Variables)\n",
    "\n",
    "As the file loaded we used the first column as the index and began our analysis with the 4 remaining floating point variables.\n",
    "It is important to note that there are no `NULL` values in our whole dataset.\n",
    "\n",
    "**1. x1**\n",
    "\n",
    "_Range_: [-8.819949,6.493716]\n",
    "\n",
    "_Mean_: -2.799248\n",
    "\n",
    "_Standard Deviation_: 4.228038\n",
    "\n",
    "**2. x2**\n",
    "\n",
    "_Range_: [-2.565050,7.605383]\n",
    "\n",
    "_Mean_: 3.010290\n",
    "\n",
    "_Standard Deviation_: 1.894951\n",
    "\n",
    "\n",
    "**3. x3**\n",
    "\n",
    "_Range_: [-3.200093,10.610312]\n",
    "\n",
    "_Mean_: 4.364271\n",
    "\n",
    "_Standard Deviation_: 3.086125\n",
    "\n",
    "**4. x4 (Removed)**\n",
    "\n",
    "_Range_: [-4.212029,9.137513]\n",
    "\n",
    "_Mean_: 3.685848\n",
    "\n",
    "_Standard Deviation_: 3.309750\n"
   ]
  },
  {
   "cell_type": "markdown",
   "metadata": {},
   "source": [
    "# A3 Data visualization"
   ]
  },
  {
   "cell_type": "markdown",
   "metadata": {},
   "source": [
    "Plot in the same figure the histogram of the two variables\n"
   ]
  },
  {
   "cell_type": "code",
   "execution_count": 1150,
   "outputs": [
    {
     "data": {
      "text/plain": "<Figure size 540x540 with 12 Axes>",
      "image/png": "[encoded data removed]"
     },
     "metadata": {
      "needs_background": "light"
     },
     "output_type": "display_data"
    }
   ],
   "source": [
    "seaborn.pairplot(dataset)\n",
    "plt.show()"
   ],
   "metadata": {
    "collapsed": false,
    "pycharm": {
     "name": "#%%\n"
    }
   }
  },
  {
   "cell_type": "code",
   "execution_count": 1151,
   "metadata": {},
   "outputs": [
    {
     "data": {
      "text/plain": "<Figure size 432x288 with 1 Axes>",
      "image/png": "[encoded data removed]"
     },
     "metadata": {
      "needs_background": "light"
     },
     "output_type": "display_data"
    }
   ],
   "source": [
    "dfhist= seaborn.histplot([dataset['x1'],dataset['x2']], kde= False)\n",
    "dfhist.set_ylabel('Frequency')\n",
    "dfhist.set_title(\"Histogram of both x1 and x2\")\n",
    "\n",
    "plt.show()"
   ]
  },
  {
   "cell_type": "markdown",
   "metadata": {},
   "source": [
    "Based on this plot, provide a description of your data:\n",
    "\n",
    "Your response here:\n",
    "\n",
    "We can determine the type of distribution each of our variables resembles the most:\n",
    "\n",
    "`x1`: Skewed distribution\n",
    "\n",
    "`x2`: Normal distribution\n",
    "\n",
    "`x3`: Skewed distribution\n",
    "\n",
    "Note: `x1` and  `x3` are almost a complete mirror image of each other.\n",
    "\n",
    "This will be useful later when generating our clusters.\n"
   ]
  },
  {
   "cell_type": "markdown",
   "metadata": {},
   "source": [
    "Plot in the same figure the boxplot of the two variables "
   ]
  },
  {
   "cell_type": "code",
   "execution_count": 1152,
   "metadata": {},
   "outputs": [
    {
     "data": {
      "text/plain": "<Figure size 432x288 with 1 Axes>",
      "image/png": "[encoded data removed]"
     },
     "metadata": {
      "needs_background": "light"
     },
     "output_type": "display_data"
    }
   ],
   "source": [
    "dfbox=seaborn.boxplot(data=[dataset.x1,dataset.x2,dataset.x3],orient=\"h\")\n",
    "dfbox.set_title(\"BoxPlot of x1, x2 and x3\")\n",
    "plt.show()"
   ]
  },
  {
   "cell_type": "markdown",
   "metadata": {},
   "source": [
    "Scatter plot of the two variables"
   ]
  },
  {
   "cell_type": "code",
   "execution_count": 1153,
   "metadata": {},
   "outputs": [
    {
     "data": {
      "text/plain": "<Figure size 432x288 with 1 Axes>",
      "image/png": "[encoded data removed]"
     },
     "metadata": {
      "needs_background": "light"
     },
     "output_type": "display_data"
    }
   ],
   "source": [
    "plt.scatter(dataset.x1,dataset.x2)\n",
    "plt.title(\"ScatterPlot of both x1 and x2\")\n",
    "plt.xlabel('x1')\n",
    "plt.ylabel('x2')\n",
    "plt.show()"
   ]
  },
  {
   "cell_type": "markdown",
   "metadata": {},
   "source": [
    "### Questions \n",
    "\n",
    "Based on the previous plots, provide a description of your dataset\n",
    "\n",
    "Your response:\n",
    "Based on the plots above we can clearly identify the clusters of our data. Specifically when comparing our `x1`and `x2` variables."
   ]
  },
  {
   "cell_type": "markdown",
   "metadata": {},
   "source": [
    "# A4 Kmeans"
   ]
  },
  {
   "cell_type": "markdown",
   "metadata": {},
   "source": [
    "Do Kmeans clustering assuming a number of clusters accorging to your scatter plot"
   ]
  },
  {
   "cell_type": "code",
   "execution_count": 1154,
   "metadata": {},
   "outputs": [
    {
     "data": {
      "text/plain": "array([0, 0, 0, 0, 1, 1, 0, 1, 0, 1, 0, 0, 0, 1, 0, 0, 1, 1, 1, 1, 0, 0,\n       1, 0, 0, 1, 1, 1, 0, 0, 1, 1, 1, 1, 1, 0, 1, 0, 0, 1, 0, 1, 0, 0,\n       0, 0, 0, 1, 0, 1, 0, 0, 0, 0, 0, 1, 1, 0, 0, 0, 1, 1, 1, 0, 0, 0,\n       0, 0, 0, 0, 0, 1, 0, 1, 1, 0, 0, 1, 0, 1, 1, 1, 0, 0, 1, 1, 0, 1,\n       1, 1, 0, 0, 1, 0, 1, 0, 0, 0, 0, 0, 0, 0, 1, 1, 0, 1, 0, 1, 0, 0,\n       0, 0, 1, 0, 0, 0, 1, 0, 0, 1, 0, 1, 1, 1, 0, 0, 0, 1, 0, 0, 1, 1,\n       0, 0, 0, 0, 0, 0, 0, 1, 0, 0, 0, 1, 0, 0, 0, 0, 0, 1, 1, 0, 0, 0,\n       0, 1, 0, 0, 0, 0, 0, 0, 0, 0, 0, 0, 0, 1, 1, 1, 0, 0, 1, 0, 0, 0,\n       0, 1, 0, 0, 0, 1, 0, 0, 0, 0, 0, 0, 1, 1, 0, 0, 1, 0, 0, 0, 0, 1,\n       0, 0, 1, 0, 1, 0, 0, 0, 0, 0, 0, 0, 0, 1, 0, 0, 0, 0, 0, 0, 0, 0,\n       0, 0, 0, 1, 1], dtype=int32)"
     },
     "execution_count": 1154,
     "metadata": {},
     "output_type": "execute_result"
    }
   ],
   "source": [
    "from sklearn.cluster import KMeans\n",
    "\n",
    "km = KMeans(n_clusters=2)\n",
    "\n",
    "yp = km.fit_predict(dataset[['x1','x2']])\n",
    "\n",
    "yp\n"
   ]
  },
  {
   "cell_type": "markdown",
   "metadata": {},
   "source": [
    "Add to your dataset a column with the assigned cluster to each data point"
   ]
  },
  {
   "cell_type": "code",
   "execution_count": 1155,
   "metadata": {},
   "outputs": [
    {
     "data": {
      "text/plain": "           x1        x2        x3  Clusters\n0   -5.778011  1.503022  2.590017         0\n1   -3.591031  1.371241  5.447346         0\n2   -7.750257  3.484306 -0.262432         0\n3   -7.393745 -0.245431  0.257993         0\n4    4.351650  5.825122  8.467202         1\n..        ...       ...       ...       ...\n220 -7.630826  1.888713  1.330885         0\n221 -2.566798  0.995897  5.768739         0\n222 -5.010173  5.009064  2.592797         0\n223  4.720064  1.741084  8.072480         1\n224  1.703520  3.213030  7.469596         1\n\n[225 rows x 4 columns]",
      "text/html": "<div>\n<style scoped>\n    .dataframe tbody tr th:only-of-type {\n        vertical-align: middle;\n    }\n\n    .dataframe tbody tr th {\n        vertical-align: top;\n    }\n\n    .dataframe thead th {\n        text-align: right;\n    }\n</style>\n<table border=\"1\" class=\"dataframe\">\n  <thead>\n    <tr style=\"text-align: right;\">\n      <th></th>\n      <th>x1</th>\n      <th>x2</th>\n      <th>x3</th>\n      <th>Clusters</th>\n    </tr>\n  </thead>\n  <tbody>\n    <tr>\n      <th>0</th>\n      <td>-5.778011</td>\n      <td>1.503022</td>\n      <td>2.590017</td>\n      <td>0</td>\n    </tr>\n    <tr>\n      <th>1</th>\n      <td>-3.591031</td>\n      <td>1.371241</td>\n      <td>5.447346</td>\n      <td>0</td>\n    </tr>\n    <tr>\n      <th>2</th>\n      <td>-7.750257</td>\n      <td>3.484306</td>\n      <td>-0.262432</td>\n      <td>0</td>\n    </tr>\n    <tr>\n      <th>3</th>\n      <td>-7.393745</td>\n      <td>-0.245431</td>\n      <td>0.257993</td>\n      <td>0</td>\n    </tr>\n    <tr>\n      <th>4</th>\n      <td>4.351650</td>\n      <td>5.825122</td>\n      <td>8.467202</td>\n      <td>1</td>\n    </tr>\n    <tr>\n      <th>...</th>\n      <td>...</td>\n      <td>...</td>\n      <td>...</td>\n      <td>...</td>\n    </tr>\n    <tr>\n      <th>220</th>\n      <td>-7.630826</td>\n      <td>1.888713</td>\n      <td>1.330885</td>\n      <td>0</td>\n    </tr>\n    <tr>\n      <th>221</th>\n      <td>-2.566798</td>\n      <td>0.995897</td>\n      <td>5.768739</td>\n      <td>0</td>\n    </tr>\n    <tr>\n      <th>222</th>\n      <td>-5.010173</td>\n      <td>5.009064</td>\n      <td>2.592797</td>\n      <td>0</td>\n    </tr>\n    <tr>\n      <th>223</th>\n      <td>4.720064</td>\n      <td>1.741084</td>\n      <td>8.072480</td>\n      <td>1</td>\n    </tr>\n    <tr>\n      <th>224</th>\n      <td>1.703520</td>\n      <td>3.213030</td>\n      <td>7.469596</td>\n      <td>1</td>\n    </tr>\n  </tbody>\n</table>\n<p>225 rows × 4 columns</p>\n</div>"
     },
     "execution_count": 1155,
     "metadata": {},
     "output_type": "execute_result"
    }
   ],
   "source": [
    "dataset['Clusters'] = yp\n",
    "\n",
    "dataset\n",
    "\n"
   ]
  },
  {
   "cell_type": "markdown",
   "metadata": {},
   "source": [
    "Print the number associated to each cluster"
   ]
  },
  {
   "cell_type": "code",
   "execution_count": 1156,
   "metadata": {},
   "outputs": [
    {
     "data": {
      "text/plain": "array([0, 1], dtype=int32)"
     },
     "execution_count": 1156,
     "metadata": {},
     "output_type": "execute_result"
    }
   ],
   "source": [
    "dataset.Clusters.unique()\n"
   ]
  },
  {
   "cell_type": "markdown",
   "metadata": {},
   "source": [
    "Print the centroids"
   ]
  },
  {
   "cell_type": "code",
   "execution_count": 1157,
   "metadata": {},
   "outputs": [
    {
     "data": {
      "text/plain": "array([[-5.58325817,  2.33906676],\n       [ 2.7687711 ,  4.3527356 ]])"
     },
     "execution_count": 1157,
     "metadata": {},
     "output_type": "execute_result"
    }
   ],
   "source": [
    "km.cluster_centers_\n",
    "\n"
   ]
  },
  {
   "cell_type": "markdown",
   "metadata": {},
   "source": [
    "Print the intertia metric"
   ]
  },
  {
   "cell_type": "code",
   "execution_count": 1158,
   "metadata": {},
   "outputs": [
    {
     "data": {
      "text/plain": "1118.078696762996"
     },
     "execution_count": 1158,
     "metadata": {},
     "output_type": "execute_result"
    }
   ],
   "source": [
    "km.inertia_\n"
   ]
  },
  {
   "cell_type": "markdown",
   "metadata": {},
   "source": [
    "Plot a scatter plot of your data assigned to each cluster. Also plot the centroids"
   ]
  },
  {
   "cell_type": "code",
   "execution_count": 1159,
   "metadata": {},
   "outputs": [
    {
     "data": {
      "text/plain": "<Figure size 432x288 with 1 Axes>",
      "image/png": "[encoded data removed]"
     },
     "metadata": {
      "needs_background": "light"
     },
     "output_type": "display_data"
    }
   ],
   "source": [
    "df1 = dataset[dataset.Clusters==0]\n",
    "df2 = dataset[dataset.Clusters==1]\n",
    "\n",
    "plt.scatter(df1.x1, df1.x2, label='Estimated Group 1')\n",
    "plt.scatter(df2.x1, df2.x2, label='Estimated Group 2')\n",
    "\n",
    "plt.scatter(km.cluster_centers_[:,0], km.cluster_centers_[:,1], color='magenta', marker='*', label='Centroides', s=256)\n",
    "\n",
    "plt.title('x1 vs x2')\n",
    "plt.xlabel('x1')\n",
    "plt.ylabel('x2')\n",
    "plt.legend()\n",
    "plt.show()\n"
   ]
  },
  {
   "cell_type": "markdown",
   "metadata": {},
   "source": [
    "### Questions \n",
    "\n",
    "Provides a detailed description of your results\n",
    "\n",
    "Your response: Just using the observation method we can see that the predicted centroids match with our dataset. Nevertheless we must confirm the precision of our model by trying different numbers of clusters."
   ]
  },
  {
   "cell_type": "markdown",
   "metadata": {},
   "source": [
    "# A4 Elbow plot\n",
    "\n",
    "Compute the Elbow plot"
   ]
  },
  {
   "cell_type": "code",
   "execution_count": 1160,
   "metadata": {},
   "outputs": [],
   "source": [
    "sse = []\n",
    "k_rng = range(1,10)\n",
    "for k in k_rng:\n",
    "    km = KMeans(n_clusters=k)\n",
    "    km.fit_predict(dataset[['x1','x2']])\n",
    "    sse.append(km.inertia_)\n",
    "\n"
   ]
  },
  {
   "cell_type": "code",
   "execution_count": 1161,
   "metadata": {},
   "outputs": [
    {
     "data": {
      "text/plain": "<Figure size 432x288 with 1 Axes>",
      "image/png": "[encoded data removed]"
     },
     "metadata": {
      "needs_background": "light"
     },
     "output_type": "display_data"
    }
   ],
   "source": [
    "plt.plot(k_rng,sse)\n",
    "\n",
    "plt.title('Elbow plot')\n",
    "plt.xlabel('K')\n",
    "plt.ylabel('Sum of squared error')\n",
    "plt.show()"
   ]
  },
  {
   "cell_type": "markdown",
   "metadata": {},
   "source": [
    "### Questions \n",
    "\n",
    "What is the best number of clusters K? (argue your response)\n",
    "\n",
    "Your response: The best number of clusters according to the elbow plot is 3. This is because it has a lower Sum of squared error while keeping the number of clusters low enough for it to make a considerable difference in the error.\n",
    "\n",
    "\n",
    "Does this number of clusters agree with your inital guess? (argue your response)\n",
    "\n",
    "Your response: It does not this is why it's incredibly important to validate initial guess using an elbow plot. At the end of the day, if you don't prove your guess then it's only a guess."
   ]
  },
  {
   "cell_type": "markdown",
   "metadata": {},
   "source": [
    "# BONUS"
   ]
  },
  {
   "cell_type": "markdown",
   "metadata": {},
   "source": [
    "1) Generate some data using the \"make_blobs\" function from \"sklearn.datasets\"\n",
    "\n",
    "- The number of observations is equal to the three last digits in your ID\n",
    "\n",
    "- 2 variables\n",
    "\n",
    "- 4 clusters\n",
    "\n",
    "- Standar deviation of each cluster of 1.5\n",
    "\n"
   ]
  },
  {
   "cell_type": "code",
   "execution_count": 1162,
   "metadata": {},
   "outputs": [
    {
     "data": {
      "text/plain": "            x         y  Clusters\n0    7.087212 -7.198585         1\n1    3.826420  3.074711         3\n2   -9.252683  0.993659         0\n3    0.063343  3.100770         2\n4   -8.729140 -3.626142         0\n..        ...       ...       ...\n220  2.408244  6.407978         2\n221  1.081462  6.451279         2\n222  0.969689  5.291306         2\n223  5.194499  5.434859         3\n224  4.216928  4.113607         2\n\n[225 rows x 3 columns]",
      "text/html": "<div>\n<style scoped>\n    .dataframe tbody tr th:only-of-type {\n        vertical-align: middle;\n    }\n\n    .dataframe tbody tr th {\n        vertical-align: top;\n    }\n\n    .dataframe thead th {\n        text-align: right;\n    }\n</style>\n<table border=\"1\" class=\"dataframe\">\n  <thead>\n    <tr style=\"text-align: right;\">\n      <th></th>\n      <th>x</th>\n      <th>y</th>\n      <th>Clusters</th>\n    </tr>\n  </thead>\n  <tbody>\n    <tr>\n      <th>0</th>\n      <td>7.087212</td>\n      <td>-7.198585</td>\n      <td>1</td>\n    </tr>\n    <tr>\n      <th>1</th>\n      <td>3.826420</td>\n      <td>3.074711</td>\n      <td>3</td>\n    </tr>\n    <tr>\n      <th>2</th>\n      <td>-9.252683</td>\n      <td>0.993659</td>\n      <td>0</td>\n    </tr>\n    <tr>\n      <th>3</th>\n      <td>0.063343</td>\n      <td>3.100770</td>\n      <td>2</td>\n    </tr>\n    <tr>\n      <th>4</th>\n      <td>-8.729140</td>\n      <td>-3.626142</td>\n      <td>0</td>\n    </tr>\n    <tr>\n      <th>...</th>\n      <td>...</td>\n      <td>...</td>\n      <td>...</td>\n    </tr>\n    <tr>\n      <th>220</th>\n      <td>2.408244</td>\n      <td>6.407978</td>\n      <td>2</td>\n    </tr>\n    <tr>\n      <th>221</th>\n      <td>1.081462</td>\n      <td>6.451279</td>\n      <td>2</td>\n    </tr>\n    <tr>\n      <th>222</th>\n      <td>0.969689</td>\n      <td>5.291306</td>\n      <td>2</td>\n    </tr>\n    <tr>\n      <th>223</th>\n      <td>5.194499</td>\n      <td>5.434859</td>\n      <td>3</td>\n    </tr>\n    <tr>\n      <th>224</th>\n      <td>4.216928</td>\n      <td>4.113607</td>\n      <td>2</td>\n    </tr>\n  </tbody>\n</table>\n<p>225 rows × 3 columns</p>\n</div>"
     },
     "execution_count": 1162,
     "metadata": {},
     "output_type": "execute_result"
    }
   ],
   "source": [
    "from sklearn.datasets import make_blobs\n",
    "\n",
    "valores,clusters,centers_bonus  = make_blobs(n_samples=225,n_features=2,centers=4,cluster_std=1.5,return_centers=True)\n",
    "\n",
    "\n",
    "\n",
    "df_bonus = pd.DataFrame(valores,columns=[\"x\",\"y\"])\n",
    "\n",
    "df_bonus['Clusters'] = clusters\n",
    "\n",
    "df_bonus\n",
    "\n"
   ]
  },
  {
   "cell_type": "markdown",
   "metadata": {},
   "source": [
    "2) Plot the scatter plot of your data using the real cluster labels"
   ]
  },
  {
   "cell_type": "code",
   "execution_count": 1163,
   "metadata": {},
   "outputs": [
    {
     "data": {
      "text/plain": "<Figure size 432x288 with 1 Axes>",
      "image/png": "[encoded data removed]"
     },
     "metadata": {
      "needs_background": "light"
     },
     "output_type": "display_data"
    },
    {
     "name": "stdout",
     "output_type": "stream",
     "text": [
      "[[-9.63683103 -0.97825458]\n",
      " [ 5.71913944 -6.5631599 ]\n",
      " [ 1.70763549  4.77517572]\n",
      " [ 5.37675336  4.08102074]]\n"
     ]
    }
   ],
   "source": [
    "df_bonus_0 = df_bonus[df_bonus.Clusters==0]\n",
    "df_bonus_1 = df_bonus[df_bonus.Clusters==1]\n",
    "df_bonus_2 = df_bonus[df_bonus.Clusters==2]\n",
    "df_bonus_3 = df_bonus[df_bonus.Clusters==3]\n",
    "\n",
    "plt.scatter(df_bonus_0.x, df_bonus_0.y, label='Group 1')\n",
    "plt.scatter(df_bonus_1.x, df_bonus_1.y, label='Group 2')\n",
    "plt.scatter(df_bonus_2.x, df_bonus_2.y, label='Group 3')\n",
    "plt.scatter(df_bonus_3.x, df_bonus_3.y, label='Group 4')\n",
    "\n",
    "\n",
    "plt.scatter(centers_bonus[:,0], centers_bonus[:,1], color='magenta', marker='*', label='Centroides', s=256)\n",
    "\n",
    "plt.title('Scatter Plot Real Cluster Labels')\n",
    "plt.xlabel('X')\n",
    "plt.ylabel('Y')\n",
    "plt.legend()\n",
    "plt.show()\n",
    "\n",
    "print(centers_bonus)\n"
   ]
  },
  {
   "cell_type": "markdown",
   "metadata": {},
   "source": [
    "3) Do K means clustering "
   ]
  },
  {
   "cell_type": "code",
   "execution_count": 1164,
   "metadata": {},
   "outputs": [
    {
     "data": {
      "text/plain": "            x         y  Clusters  Predicted_Clusters\n0    7.087212 -7.198585         1                   2\n1    3.826420  3.074711         3                   3\n2   -9.252683  0.993659         0                   0\n3    0.063343  3.100770         2                   1\n4   -8.729140 -3.626142         0                   0\n..        ...       ...       ...                 ...\n220  2.408244  6.407978         2                   1\n221  1.081462  6.451279         2                   1\n222  0.969689  5.291306         2                   1\n223  5.194499  5.434859         3                   3\n224  4.216928  4.113607         2                   3\n\n[225 rows x 4 columns]",
      "text/html": "<div>\n<style scoped>\n    .dataframe tbody tr th:only-of-type {\n        vertical-align: middle;\n    }\n\n    .dataframe tbody tr th {\n        vertical-align: top;\n    }\n\n    .dataframe thead th {\n        text-align: right;\n    }\n</style>\n<table border=\"1\" class=\"dataframe\">\n  <thead>\n    <tr style=\"text-align: right;\">\n      <th></th>\n      <th>x</th>\n      <th>y</th>\n      <th>Clusters</th>\n      <th>Predicted_Clusters</th>\n    </tr>\n  </thead>\n  <tbody>\n    <tr>\n      <th>0</th>\n      <td>7.087212</td>\n      <td>-7.198585</td>\n      <td>1</td>\n      <td>2</td>\n    </tr>\n    <tr>\n      <th>1</th>\n      <td>3.826420</td>\n      <td>3.074711</td>\n      <td>3</td>\n      <td>3</td>\n    </tr>\n    <tr>\n      <th>2</th>\n      <td>-9.252683</td>\n      <td>0.993659</td>\n      <td>0</td>\n      <td>0</td>\n    </tr>\n    <tr>\n      <th>3</th>\n      <td>0.063343</td>\n      <td>3.100770</td>\n      <td>2</td>\n      <td>1</td>\n    </tr>\n    <tr>\n      <th>4</th>\n      <td>-8.729140</td>\n      <td>-3.626142</td>\n      <td>0</td>\n      <td>0</td>\n    </tr>\n    <tr>\n      <th>...</th>\n      <td>...</td>\n      <td>...</td>\n      <td>...</td>\n      <td>...</td>\n    </tr>\n    <tr>\n      <th>220</th>\n      <td>2.408244</td>\n      <td>6.407978</td>\n      <td>2</td>\n      <td>1</td>\n    </tr>\n    <tr>\n      <th>221</th>\n      <td>1.081462</td>\n      <td>6.451279</td>\n      <td>2</td>\n      <td>1</td>\n    </tr>\n    <tr>\n      <th>222</th>\n      <td>0.969689</td>\n      <td>5.291306</td>\n      <td>2</td>\n      <td>1</td>\n    </tr>\n    <tr>\n      <th>223</th>\n      <td>5.194499</td>\n      <td>5.434859</td>\n      <td>3</td>\n      <td>3</td>\n    </tr>\n    <tr>\n      <th>224</th>\n      <td>4.216928</td>\n      <td>4.113607</td>\n      <td>2</td>\n      <td>3</td>\n    </tr>\n  </tbody>\n</table>\n<p>225 rows × 4 columns</p>\n</div>"
     },
     "execution_count": 1164,
     "metadata": {},
     "output_type": "execute_result"
    }
   ],
   "source": [
    "km_bonus = KMeans(n_clusters=4)\n",
    "\n",
    "yp_bonus = km_bonus.fit_predict(df_bonus[['x','y']])\n",
    "\n",
    "df_bonus['Predicted_Clusters'] = yp_bonus\n",
    "\n",
    "df_bonus\n"
   ]
  },
  {
   "cell_type": "markdown",
   "metadata": {},
   "source": [
    "4) Plot the scatter plot of your data using the estimated cluster labels"
   ]
  },
  {
   "cell_type": "code",
   "execution_count": 1177,
   "metadata": {},
   "outputs": [
    {
     "data": {
      "text/plain": "<Figure size 432x288 with 1 Axes>",
      "image/png": "[encoded data removed]"
     },
     "metadata": {
      "needs_background": "light"
     },
     "output_type": "display_data"
    },
    {
     "name": "stdout",
     "output_type": "stream",
     "text": [
      "[[-9.61877574 -0.84249312]\n",
      " [ 1.37450547  4.93583999]\n",
      " [ 5.60016773 -6.59004409]\n",
      " [ 5.34076309  3.74380943]]\n"
     ]
    }
   ],
   "source": [
    "df_bonus_0 = df_bonus[df_bonus.Predicted_Clusters==0]\n",
    "df_bonus_1 = df_bonus[df_bonus.Predicted_Clusters==2]\n",
    "df_bonus_2 = df_bonus[df_bonus.Predicted_Clusters==1]\n",
    "df_bonus_3 = df_bonus[df_bonus.Predicted_Clusters==3]\n",
    "\n",
    "plt.scatter(df_bonus_0.x, df_bonus_0.y, label='Estimated Group 1')\n",
    "plt.scatter(df_bonus_1.x, df_bonus_1.y, label='Estimated Group 2')\n",
    "plt.scatter(df_bonus_2.x, df_bonus_2.y, label='Estimated Group 3')\n",
    "plt.scatter(df_bonus_3.x, df_bonus_3.y, label='Estimated Group 4')\n",
    "\n",
    "\n",
    "plt.scatter(km_bonus.cluster_centers_[:,0], km_bonus.cluster_centers_[:,1], color='magenta', marker='*', label='Centroides', s=256)\n",
    "\n",
    "plt.title('Scatter Plot Estimated Cluster Labels')\n",
    "plt.xlabel('X')\n",
    "plt.ylabel('Y')\n",
    "plt.legend()\n",
    "plt.show()\n",
    "\n",
    "print(km_bonus.cluster_centers_)\n"
   ]
  },
  {
   "cell_type": "markdown",
   "metadata": {},
   "source": [
    "### Questions \n",
    "\n",
    "Provides a detailed description of your results.\n",
    "\n",
    "Your response: Checking the difference between the predicted centers and the real centers we can see it's very small."
   ]
  },
  {
   "cell_type": "code",
   "execution_count": 1166,
   "outputs": [
    {
     "name": "stdout",
     "output_type": "stream",
     "text": [
      "Real Centers\n",
      "[[-9.63683103 -0.97825458]\n",
      " [ 5.71913944 -6.5631599 ]\n",
      " [ 1.70763549  4.77517572]\n",
      " [ 5.37675336  4.08102074]]\n",
      "Predicted Centers\n",
      "[[-9.61877574 -0.84249312]\n",
      " [ 1.37450547  4.93583999]\n",
      " [ 5.60016773 -6.59004409]\n",
      " [ 5.34076309  3.74380943]]\n"
     ]
    }
   ],
   "source": [
    "# Note: they're not ordered correctly\n",
    "print(\"Real Centers\")\n",
    "print(centers_bonus)\n",
    "\n",
    "print(\"Predicted Centers\")\n",
    "print(km_bonus.cluster_centers_)"
   ],
   "metadata": {
    "collapsed": false,
    "pycharm": {
     "name": "#%%\n"
    }
   }
  },
  {
   "cell_type": "markdown",
   "source": [
    "Proving that the KMeans method for predicting centers is very accurate for our needs."
   ],
   "metadata": {
    "collapsed": false
   }
  },
  {
   "cell_type": "markdown",
   "metadata": {},
   "source": [
    "# Descipcion de tu percepcion del nivel de desarrollo de la subcompetencia \n",
    "\n",
    "### SING0202A Interpretación de variables\n"
   ]
  },
  {
   "cell_type": "markdown",
   "metadata": {},
   "source": [
    "Escribe tu description del nivel de logro del siguiente criterio de la subcompetencia\n",
    "\n",
    "**Interpreta interacciones**. Interpreta interacciones entre variables relevantes en un problema, como base para la construcción de modelos bivariados basados en datos de un fenómeno investigado que le permita reproducir la respuesta del mismo."
   ]
  },
  {
   "cell_type": "markdown",
   "metadata": {},
   "source": [
    "Tu respuesta: A lo largo de esta unidad de formación con ayuda de herramientas de grafiación y manejo de datos como `matplotlib`,`seaborn` y `pandas` logre identificar en todos los trabajos a lo largo esta semana las interecciones más relevantes entre variables para así construir modelos de predicción bivariados."
   ]
  },
  {
   "cell_type": "markdown",
   "metadata": {},
   "source": [
    "Escribe tu description del nivel de logro del siguiente criterio de la subcompetencia\n",
    "\n",
    "**Construcción de modelos**. Es capaz de construir modelos bivariados que expliquen el comportamiento de un fenómeno."
   ]
  },
  {
   "cell_type": "markdown",
   "metadata": {
    "pycharm": {
     "name": "#%% md\n"
    }
   },
   "source": [
    "Tu respuesta: Después de los aprendizajes adquiridos a lo largo de esta semana, soy capaz de generar modelos bivariados que explican el comportamiento de fenómenos, utilizando herramientas computacionales.\n"
   ]
  }
 ],
 "metadata": {
  "kernelspec": {
   "name": "python3",
   "language": "python",
   "display_name": "Python 3 (ipykernel)"
  },
  "language_info": {
   "codemirror_mode": {
    "name": "ipython",
    "version": 3
   },
   "file_extension": ".py",
   "mimetype": "text/x-python",
   "name": "python",
   "nbconvert_exporter": "python",
   "pygments_lexer": "ipython3",
   "version": "3.8.3"
  }
 },
 "nbformat": 4,
 "nbformat_minor": 2
}