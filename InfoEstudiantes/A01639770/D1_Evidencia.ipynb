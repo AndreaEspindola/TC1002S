{
 "cells": [
  {
   "cell_type": "markdown",
   "metadata": {},
   "source": [
    "# TC1002S Herramientas computacionales: el arte de la analítica\n",
    "\n",
    "This is a notebook with all your work for the final evidence of this course\n",
    "\n",
    "\n",
    "# Niveles de dominio a demostrar con la evidencia\n",
    "\n",
    "### SING0202A\n",
    "\n",
    "Interpreta interacciones entre variables relevantes en un problema, como base para la construcción de modelos bivariados basados en datos de un fenómeno investigado que le permita reproducir la respuesta del mismo. Es capaz de construir modelos bivariados que expliquen el comportamiento de un fenómeno.\n",
    "\n",
    "\n",
    "# Student information\n",
    "\n",
    "- Name: Kevin Fernando Meza Narváez\n",
    "\n",
    "- ID: A01639770\n",
    "\n",
    "- My carreer: ITC, Ingenieria en Tecnologias Computacionales\n"
   ]
  },
  {
   "cell_type": "markdown",
   "metadata": {},
   "source": [
    "# Importing libraries"
   ]
  },
  {
   "cell_type": "code",
   "execution_count": 2,
   "metadata": {},
   "outputs": [],
   "source": [
    "import pandas as pd\n",
    "\n"
   ]
  },
  {
   "cell_type": "markdown",
   "metadata": {},
   "source": [
    "# A1 Load data"
   ]
  },
  {
   "cell_type": "code",
   "execution_count": 3,
   "metadata": {},
   "outputs": [],
   "source": [
    "url_dataset = \"datasets/A01639770/A01639770.csv\"\n",
    "dataset = pd.read_csv(url_dataset)"
   ]
  },
  {
   "cell_type": "markdown",
   "metadata": {},
   "source": [
    "# A2 Data managment\n"
   ]
  },
  {
   "cell_type": "markdown",
   "metadata": {},
   "source": [
    "Print the first 7 rows"
   ]
  },
  {
   "cell_type": "code",
   "execution_count": 4,
   "metadata": {},
   "outputs": [
    {
     "data": {
      "text/html": [
       "<div>\n",
       "<style scoped>\n",
       "    .dataframe tbody tr th:only-of-type {\n",
       "        vertical-align: middle;\n",
       "    }\n",
       "\n",
       "    .dataframe tbody tr th {\n",
       "        vertical-align: top;\n",
       "    }\n",
       "\n",
       "    .dataframe thead th {\n",
       "        text-align: right;\n",
       "    }\n",
       "</style>\n",
       "<table border=\"1\" class=\"dataframe\">\n",
       "  <thead>\n",
       "    <tr style=\"text-align: right;\">\n",
       "      <th></th>\n",
       "      <th>Unnamed: 0</th>\n",
       "      <th>x1</th>\n",
       "      <th>x2</th>\n",
       "      <th>x3</th>\n",
       "      <th>x4</th>\n",
       "    </tr>\n",
       "  </thead>\n",
       "  <tbody>\n",
       "    <tr>\n",
       "      <th>0</th>\n",
       "      <td>0</td>\n",
       "      <td>2.458777</td>\n",
       "      <td>-4.605414</td>\n",
       "      <td>-10.977418</td>\n",
       "      <td>-5.213285</td>\n",
       "    </tr>\n",
       "    <tr>\n",
       "      <th>1</th>\n",
       "      <td>1</td>\n",
       "      <td>2.565885</td>\n",
       "      <td>-5.761821</td>\n",
       "      <td>-12.398355</td>\n",
       "      <td>-4.626450</td>\n",
       "    </tr>\n",
       "    <tr>\n",
       "      <th>2</th>\n",
       "      <td>2</td>\n",
       "      <td>-8.285511</td>\n",
       "      <td>9.547537</td>\n",
       "      <td>1.634268</td>\n",
       "      <td>-6.102949</td>\n",
       "    </tr>\n",
       "    <tr>\n",
       "      <th>3</th>\n",
       "      <td>3</td>\n",
       "      <td>-7.009352</td>\n",
       "      <td>10.451702</td>\n",
       "      <td>0.171169</td>\n",
       "      <td>-9.927920</td>\n",
       "    </tr>\n",
       "    <tr>\n",
       "      <th>4</th>\n",
       "      <td>4</td>\n",
       "      <td>4.684864</td>\n",
       "      <td>-0.578750</td>\n",
       "      <td>-9.513837</td>\n",
       "      <td>-4.230361</td>\n",
       "    </tr>\n",
       "    <tr>\n",
       "      <th>5</th>\n",
       "      <td>5</td>\n",
       "      <td>-6.837425</td>\n",
       "      <td>11.051161</td>\n",
       "      <td>0.415296</td>\n",
       "      <td>-7.801524</td>\n",
       "    </tr>\n",
       "    <tr>\n",
       "      <th>6</th>\n",
       "      <td>6</td>\n",
       "      <td>-7.322263</td>\n",
       "      <td>0.676455</td>\n",
       "      <td>4.638088</td>\n",
       "      <td>3.878423</td>\n",
       "    </tr>\n",
       "  </tbody>\n",
       "</table>\n",
       "</div>"
      ],
      "text/plain": [
       "   Unnamed: 0        x1         x2         x3        x4\n",
       "0           0  2.458777  -4.605414 -10.977418 -5.213285\n",
       "1           1  2.565885  -5.761821 -12.398355 -4.626450\n",
       "2           2 -8.285511   9.547537   1.634268 -6.102949\n",
       "3           3 -7.009352  10.451702   0.171169 -9.927920\n",
       "4           4  4.684864  -0.578750  -9.513837 -4.230361\n",
       "5           5 -6.837425  11.051161   0.415296 -7.801524\n",
       "6           6 -7.322263   0.676455   4.638088  3.878423"
      ]
     },
     "execution_count": 4,
     "metadata": {},
     "output_type": "execute_result"
    }
   ],
   "source": [
    "dataset.head(7)"
   ]
  },
  {
   "cell_type": "markdown",
   "metadata": {},
   "source": [
    "Print the first 4 last rows"
   ]
  },
  {
   "cell_type": "code",
   "execution_count": 5,
   "metadata": {},
   "outputs": [
    {
     "data": {
      "text/html": [
       "<div>\n",
       "<style scoped>\n",
       "    .dataframe tbody tr th:only-of-type {\n",
       "        vertical-align: middle;\n",
       "    }\n",
       "\n",
       "    .dataframe tbody tr th {\n",
       "        vertical-align: top;\n",
       "    }\n",
       "\n",
       "    .dataframe thead th {\n",
       "        text-align: right;\n",
       "    }\n",
       "</style>\n",
       "<table border=\"1\" class=\"dataframe\">\n",
       "  <thead>\n",
       "    <tr style=\"text-align: right;\">\n",
       "      <th></th>\n",
       "      <th>Unnamed: 0</th>\n",
       "      <th>x1</th>\n",
       "      <th>x2</th>\n",
       "      <th>x3</th>\n",
       "      <th>x4</th>\n",
       "    </tr>\n",
       "  </thead>\n",
       "  <tbody>\n",
       "    <tr>\n",
       "      <th>766</th>\n",
       "      <td>766</td>\n",
       "      <td>-9.681889</td>\n",
       "      <td>10.212266</td>\n",
       "      <td>0.971539</td>\n",
       "      <td>-8.105166</td>\n",
       "    </tr>\n",
       "    <tr>\n",
       "      <th>767</th>\n",
       "      <td>767</td>\n",
       "      <td>4.769089</td>\n",
       "      <td>-3.967682</td>\n",
       "      <td>-9.778149</td>\n",
       "      <td>-3.556799</td>\n",
       "    </tr>\n",
       "    <tr>\n",
       "      <th>768</th>\n",
       "      <td>768</td>\n",
       "      <td>-8.858758</td>\n",
       "      <td>3.834403</td>\n",
       "      <td>3.415155</td>\n",
       "      <td>4.042067</td>\n",
       "    </tr>\n",
       "    <tr>\n",
       "      <th>769</th>\n",
       "      <td>769</td>\n",
       "      <td>-11.651789</td>\n",
       "      <td>8.464210</td>\n",
       "      <td>1.085465</td>\n",
       "      <td>-9.112061</td>\n",
       "    </tr>\n",
       "  </tbody>\n",
       "</table>\n",
       "</div>"
      ],
      "text/plain": [
       "     Unnamed: 0         x1         x2        x3        x4\n",
       "766         766  -9.681889  10.212266  0.971539 -8.105166\n",
       "767         767   4.769089  -3.967682 -9.778149 -3.556799\n",
       "768         768  -8.858758   3.834403  3.415155  4.042067\n",
       "769         769 -11.651789   8.464210  1.085465 -9.112061"
      ]
     },
     "execution_count": 5,
     "metadata": {},
     "output_type": "execute_result"
    }
   ],
   "source": [
    "dataset.tail(4)"
   ]
  },
  {
   "cell_type": "markdown",
   "metadata": {},
   "source": [
    "How many rows and columns are in your data?\n",
    "\n",
    "Use the `shape` method\n"
   ]
  },
  {
   "cell_type": "code",
   "execution_count": 6,
   "metadata": {},
   "outputs": [
    {
     "data": {
      "text/plain": [
       "(770, 5)"
      ]
     },
     "execution_count": 6,
     "metadata": {},
     "output_type": "execute_result"
    }
   ],
   "source": [
    "dataset.shape"
   ]
  },
  {
   "cell_type": "markdown",
   "metadata": {},
   "source": [
    "Print the name of all columns \n",
    "\n",
    "Use the `columns` method"
   ]
  },
  {
   "cell_type": "code",
   "execution_count": 7,
   "metadata": {},
   "outputs": [
    {
     "data": {
      "text/plain": [
       "Index(['Unnamed: 0', 'x1', 'x2', 'x3', 'x4'], dtype='object')"
      ]
     },
     "execution_count": 7,
     "metadata": {},
     "output_type": "execute_result"
    }
   ],
   "source": [
    "dataset.columns"
   ]
  },
  {
   "cell_type": "markdown",
   "metadata": {},
   "source": [
    "What is the data type in each column\n",
    "\n",
    "Use the `dtypes` method "
   ]
  },
  {
   "cell_type": "code",
   "execution_count": 8,
   "metadata": {},
   "outputs": [
    {
     "data": {
      "text/plain": [
       "Unnamed: 0      int64\n",
       "x1            float64\n",
       "x2            float64\n",
       "x3            float64\n",
       "x4            float64\n",
       "dtype: object"
      ]
     },
     "execution_count": 8,
     "metadata": {},
     "output_type": "execute_result"
    }
   ],
   "source": [
    "dataset.dtypes"
   ]
  },
  {
   "cell_type": "markdown",
   "metadata": {},
   "source": [
    "What is the meaning of rows and columns?"
   ]
  },
  {
   "cell_type": "code",
   "execution_count": 9,
   "metadata": {},
   "outputs": [],
   "source": [
    "#Representan distintas mediciones, por ejemplo, los coeficientes de una funcion"
   ]
  },
  {
   "cell_type": "markdown",
   "metadata": {},
   "source": [
    "Print a statistical summary of your columns\n"
   ]
  },
  {
   "cell_type": "code",
   "execution_count": 10,
   "metadata": {},
   "outputs": [
    {
     "data": {
      "text/html": [
       "<div>\n",
       "<style scoped>\n",
       "    .dataframe tbody tr th:only-of-type {\n",
       "        vertical-align: middle;\n",
       "    }\n",
       "\n",
       "    .dataframe tbody tr th {\n",
       "        vertical-align: top;\n",
       "    }\n",
       "\n",
       "    .dataframe thead th {\n",
       "        text-align: right;\n",
       "    }\n",
       "</style>\n",
       "<table border=\"1\" class=\"dataframe\">\n",
       "  <thead>\n",
       "    <tr style=\"text-align: right;\">\n",
       "      <th></th>\n",
       "      <th>Unnamed: 0</th>\n",
       "      <th>x1</th>\n",
       "      <th>x2</th>\n",
       "      <th>x3</th>\n",
       "      <th>x4</th>\n",
       "    </tr>\n",
       "  </thead>\n",
       "  <tbody>\n",
       "    <tr>\n",
       "      <th>count</th>\n",
       "      <td>770.000000</td>\n",
       "      <td>770.000000</td>\n",
       "      <td>770.000000</td>\n",
       "      <td>770.000000</td>\n",
       "      <td>770.000000</td>\n",
       "    </tr>\n",
       "    <tr>\n",
       "      <th>mean</th>\n",
       "      <td>384.500000</td>\n",
       "      <td>-4.365235</td>\n",
       "      <td>3.009963</td>\n",
       "      <td>-1.470242</td>\n",
       "      <td>-2.892490</td>\n",
       "    </tr>\n",
       "    <tr>\n",
       "      <th>std</th>\n",
       "      <td>222.424144</td>\n",
       "      <td>6.305746</td>\n",
       "      <td>5.397196</td>\n",
       "      <td>5.445029</td>\n",
       "      <td>5.536390</td>\n",
       "    </tr>\n",
       "    <tr>\n",
       "      <th>min</th>\n",
       "      <td>0.000000</td>\n",
       "      <td>-14.264591</td>\n",
       "      <td>-8.448087</td>\n",
       "      <td>-12.398355</td>\n",
       "      <td>-12.331009</td>\n",
       "    </tr>\n",
       "    <tr>\n",
       "      <th>25%</th>\n",
       "      <td>192.250000</td>\n",
       "      <td>-9.194033</td>\n",
       "      <td>-2.358664</td>\n",
       "      <td>-7.783728</td>\n",
       "      <td>-7.545318</td>\n",
       "    </tr>\n",
       "    <tr>\n",
       "      <th>50%</th>\n",
       "      <td>384.500000</td>\n",
       "      <td>-7.514625</td>\n",
       "      <td>3.225512</td>\n",
       "      <td>1.089208</td>\n",
       "      <td>-4.434616</td>\n",
       "    </tr>\n",
       "    <tr>\n",
       "      <th>75%</th>\n",
       "      <td>576.750000</td>\n",
       "      <td>3.241386</td>\n",
       "      <td>8.100927</td>\n",
       "      <td>2.763182</td>\n",
       "      <td>3.353814</td>\n",
       "    </tr>\n",
       "    <tr>\n",
       "      <th>max</th>\n",
       "      <td>769.000000</td>\n",
       "      <td>8.309497</td>\n",
       "      <td>13.865187</td>\n",
       "      <td>6.697332</td>\n",
       "      <td>10.044646</td>\n",
       "    </tr>\n",
       "  </tbody>\n",
       "</table>\n",
       "</div>"
      ],
      "text/plain": [
       "       Unnamed: 0          x1          x2          x3          x4\n",
       "count  770.000000  770.000000  770.000000  770.000000  770.000000\n",
       "mean   384.500000   -4.365235    3.009963   -1.470242   -2.892490\n",
       "std    222.424144    6.305746    5.397196    5.445029    5.536390\n",
       "min      0.000000  -14.264591   -8.448087  -12.398355  -12.331009\n",
       "25%    192.250000   -9.194033   -2.358664   -7.783728   -7.545318\n",
       "50%    384.500000   -7.514625    3.225512    1.089208   -4.434616\n",
       "75%    576.750000    3.241386    8.100927    2.763182    3.353814\n",
       "max    769.000000    8.309497   13.865187    6.697332   10.044646"
      ]
     },
     "execution_count": 10,
     "metadata": {},
     "output_type": "execute_result"
    }
   ],
   "source": [
    "dataset.dropna().describe()"
   ]
  },
  {
   "cell_type": "code",
   "execution_count": 108,
   "metadata": {},
   "outputs": [],
   "source": [
    "# 1) What is the minumum and maximum values of each variable\n",
    "    #x1; min = -14.264591, Max = 8.309497\n",
    "    #x2; min = -8.448087,  Max = 13.865187\n",
    "    #x3; min = -12.398355, Max = 6.697332\n",
    "    #x4; min = -12.331009, Max = 10.044646\n",
    "\n",
    "# 2) What is the mean and standar deviation of each variable\n",
    "    #x1 = 6.305746 \n",
    "    #x2 = 5.397196\n",
    "    #x3 = 5.445029\n",
    "    #x4 = 5.536390\n",
    "    \n",
    "# 3) What the 25%, 50% and 75% represent?\n",
    "    #Son los primeros 3 percentiles y son medidas estadisticas\n",
    "    #que representan proporciones en ciertas secciones de los datos\n",
    "\n"
   ]
  },
  {
   "cell_type": "markdown",
   "metadata": {},
   "source": [
    "Rename the columns using the same name with capital letters"
   ]
  },
  {
   "cell_type": "code",
   "execution_count": 109,
   "metadata": {},
   "outputs": [
    {
     "data": {
      "text/html": [
       "<div>\n",
       "<style scoped>\n",
       "    .dataframe tbody tr th:only-of-type {\n",
       "        vertical-align: middle;\n",
       "    }\n",
       "\n",
       "    .dataframe tbody tr th {\n",
       "        vertical-align: top;\n",
       "    }\n",
       "\n",
       "    .dataframe thead th {\n",
       "        text-align: right;\n",
       "    }\n",
       "</style>\n",
       "<table border=\"1\" class=\"dataframe\">\n",
       "  <thead>\n",
       "    <tr style=\"text-align: right;\">\n",
       "      <th></th>\n",
       "      <th>Unnamed: 0</th>\n",
       "      <th>X1</th>\n",
       "      <th>X2</th>\n",
       "      <th>X3</th>\n",
       "      <th>X4</th>\n",
       "    </tr>\n",
       "  </thead>\n",
       "  <tbody>\n",
       "    <tr>\n",
       "      <th>0</th>\n",
       "      <td>0</td>\n",
       "      <td>2.458777</td>\n",
       "      <td>-4.605414</td>\n",
       "      <td>-10.977418</td>\n",
       "      <td>-5.213285</td>\n",
       "    </tr>\n",
       "    <tr>\n",
       "      <th>1</th>\n",
       "      <td>1</td>\n",
       "      <td>2.565885</td>\n",
       "      <td>-5.761821</td>\n",
       "      <td>-12.398355</td>\n",
       "      <td>-4.626450</td>\n",
       "    </tr>\n",
       "    <tr>\n",
       "      <th>2</th>\n",
       "      <td>2</td>\n",
       "      <td>-8.285511</td>\n",
       "      <td>9.547537</td>\n",
       "      <td>1.634268</td>\n",
       "      <td>-6.102949</td>\n",
       "    </tr>\n",
       "    <tr>\n",
       "      <th>3</th>\n",
       "      <td>3</td>\n",
       "      <td>-7.009352</td>\n",
       "      <td>10.451702</td>\n",
       "      <td>0.171169</td>\n",
       "      <td>-9.927920</td>\n",
       "    </tr>\n",
       "    <tr>\n",
       "      <th>4</th>\n",
       "      <td>4</td>\n",
       "      <td>4.684864</td>\n",
       "      <td>-0.578750</td>\n",
       "      <td>-9.513837</td>\n",
       "      <td>-4.230361</td>\n",
       "    </tr>\n",
       "  </tbody>\n",
       "</table>\n",
       "</div>"
      ],
      "text/plain": [
       "   Unnamed: 0        X1         X2         X3        X4\n",
       "0           0  2.458777  -4.605414 -10.977418 -5.213285\n",
       "1           1  2.565885  -5.761821 -12.398355 -4.626450\n",
       "2           2 -8.285511   9.547537   1.634268 -6.102949\n",
       "3           3 -7.009352  10.451702   0.171169 -9.927920\n",
       "4           4  4.684864  -0.578750  -9.513837 -4.230361"
      ]
     },
     "execution_count": 109,
     "metadata": {},
     "output_type": "execute_result"
    }
   ],
   "source": [
    "dataset = dataset.rename(columns={\"x1\":\"X1\"})\n",
    "dataset = dataset.rename(columns={\"x2\":\"X2\"})\n",
    "dataset = dataset.rename(columns={\"x3\":\"X3\"})\n",
    "dataset = dataset.rename(columns={\"x4\":\"X4\"})\n",
    "dataset.head()"
   ]
  },
  {
   "cell_type": "markdown",
   "metadata": {},
   "source": [
    "Rename the columns to their original names"
   ]
  },
  {
   "cell_type": "code",
   "execution_count": 110,
   "metadata": {},
   "outputs": [
    {
     "data": {
      "text/html": [
       "<div>\n",
       "<style scoped>\n",
       "    .dataframe tbody tr th:only-of-type {\n",
       "        vertical-align: middle;\n",
       "    }\n",
       "\n",
       "    .dataframe tbody tr th {\n",
       "        vertical-align: top;\n",
       "    }\n",
       "\n",
       "    .dataframe thead th {\n",
       "        text-align: right;\n",
       "    }\n",
       "</style>\n",
       "<table border=\"1\" class=\"dataframe\">\n",
       "  <thead>\n",
       "    <tr style=\"text-align: right;\">\n",
       "      <th></th>\n",
       "      <th>Unnamed: 0</th>\n",
       "      <th>x1</th>\n",
       "      <th>x2</th>\n",
       "      <th>x3</th>\n",
       "      <th>x4</th>\n",
       "    </tr>\n",
       "  </thead>\n",
       "  <tbody>\n",
       "    <tr>\n",
       "      <th>0</th>\n",
       "      <td>0</td>\n",
       "      <td>2.458777</td>\n",
       "      <td>-4.605414</td>\n",
       "      <td>-10.977418</td>\n",
       "      <td>-5.213285</td>\n",
       "    </tr>\n",
       "    <tr>\n",
       "      <th>1</th>\n",
       "      <td>1</td>\n",
       "      <td>2.565885</td>\n",
       "      <td>-5.761821</td>\n",
       "      <td>-12.398355</td>\n",
       "      <td>-4.626450</td>\n",
       "    </tr>\n",
       "    <tr>\n",
       "      <th>2</th>\n",
       "      <td>2</td>\n",
       "      <td>-8.285511</td>\n",
       "      <td>9.547537</td>\n",
       "      <td>1.634268</td>\n",
       "      <td>-6.102949</td>\n",
       "    </tr>\n",
       "    <tr>\n",
       "      <th>3</th>\n",
       "      <td>3</td>\n",
       "      <td>-7.009352</td>\n",
       "      <td>10.451702</td>\n",
       "      <td>0.171169</td>\n",
       "      <td>-9.927920</td>\n",
       "    </tr>\n",
       "    <tr>\n",
       "      <th>4</th>\n",
       "      <td>4</td>\n",
       "      <td>4.684864</td>\n",
       "      <td>-0.578750</td>\n",
       "      <td>-9.513837</td>\n",
       "      <td>-4.230361</td>\n",
       "    </tr>\n",
       "  </tbody>\n",
       "</table>\n",
       "</div>"
      ],
      "text/plain": [
       "   Unnamed: 0        x1         x2         x3        x4\n",
       "0           0  2.458777  -4.605414 -10.977418 -5.213285\n",
       "1           1  2.565885  -5.761821 -12.398355 -4.626450\n",
       "2           2 -8.285511   9.547537   1.634268 -6.102949\n",
       "3           3 -7.009352  10.451702   0.171169 -9.927920\n",
       "4           4  4.684864  -0.578750  -9.513837 -4.230361"
      ]
     },
     "execution_count": 110,
     "metadata": {},
     "output_type": "execute_result"
    }
   ],
   "source": [
    "dataset = dataset.rename(columns={\"X1\":\"x1\"})\n",
    "dataset = dataset.rename(columns={\"X2\":\"x2\"})\n",
    "dataset = dataset.rename(columns={\"X3\":\"x3\"})\n",
    "dataset = dataset.rename(columns={\"X4\":\"x4\"})\n",
    "dataset.head()"
   ]
  },
  {
   "cell_type": "markdown",
   "metadata": {},
   "source": [
    "Use two different alternatives to get one of the columns"
   ]
  },
  {
   "cell_type": "code",
   "execution_count": 111,
   "metadata": {},
   "outputs": [
    {
     "name": "stdout",
     "output_type": "stream",
     "text": [
      "0       2.458777\n",
      "1       2.565885\n",
      "2      -8.285511\n",
      "3      -7.009352\n",
      "4       4.684864\n",
      "         ...    \n",
      "765    -6.814725\n",
      "766    -9.681889\n",
      "767     4.769089\n",
      "768    -8.858758\n",
      "769   -11.651789\n",
      "Name: x1, Length: 770, dtype: float64\n",
      "0       2.458777\n",
      "1       2.565885\n",
      "2      -8.285511\n",
      "3      -7.009352\n",
      "4       4.684864\n",
      "         ...    \n",
      "765    -6.814725\n",
      "766    -9.681889\n",
      "767     4.769089\n",
      "768    -8.858758\n",
      "769   -11.651789\n",
      "Name: x1, Length: 770, dtype: float64\n"
     ]
    }
   ],
   "source": [
    "a = dataset.x1 #4 formas diferentes\n",
    "b = dataset[\"x1\"]\n",
    "c = dataset.loc[:, \"x1\"]\n",
    "d = dataset.iloc[:, 1]\n",
    "print(b)\n",
    "print(d)"
   ]
  },
  {
   "cell_type": "markdown",
   "metadata": {},
   "source": [
    "Get a slice of your data set: second and thrid columns and rows from 62 to 72"
   ]
  },
  {
   "cell_type": "code",
   "execution_count": 112,
   "metadata": {
    "scrolled": true
   },
   "outputs": [
    {
     "data": {
      "text/html": [
       "<div>\n",
       "<style scoped>\n",
       "    .dataframe tbody tr th:only-of-type {\n",
       "        vertical-align: middle;\n",
       "    }\n",
       "\n",
       "    .dataframe tbody tr th {\n",
       "        vertical-align: top;\n",
       "    }\n",
       "\n",
       "    .dataframe thead th {\n",
       "        text-align: right;\n",
       "    }\n",
       "</style>\n",
       "<table border=\"1\" class=\"dataframe\">\n",
       "  <thead>\n",
       "    <tr style=\"text-align: right;\">\n",
       "      <th></th>\n",
       "      <th>x2</th>\n",
       "      <th>x3</th>\n",
       "    </tr>\n",
       "  </thead>\n",
       "  <tbody>\n",
       "    <tr>\n",
       "      <th>62</th>\n",
       "      <td>11.138733</td>\n",
       "      <td>3.351346</td>\n",
       "    </tr>\n",
       "    <tr>\n",
       "      <th>63</th>\n",
       "      <td>-0.589903</td>\n",
       "      <td>5.173905</td>\n",
       "    </tr>\n",
       "    <tr>\n",
       "      <th>64</th>\n",
       "      <td>-2.613381</td>\n",
       "      <td>-9.126996</td>\n",
       "    </tr>\n",
       "    <tr>\n",
       "      <th>65</th>\n",
       "      <td>-3.904703</td>\n",
       "      <td>-9.883796</td>\n",
       "    </tr>\n",
       "    <tr>\n",
       "      <th>66</th>\n",
       "      <td>-1.639095</td>\n",
       "      <td>-5.376892</td>\n",
       "    </tr>\n",
       "    <tr>\n",
       "      <th>67</th>\n",
       "      <td>-4.351847</td>\n",
       "      <td>-9.424727</td>\n",
       "    </tr>\n",
       "    <tr>\n",
       "      <th>68</th>\n",
       "      <td>-5.647433</td>\n",
       "      <td>-10.365238</td>\n",
       "    </tr>\n",
       "    <tr>\n",
       "      <th>69</th>\n",
       "      <td>-1.848129</td>\n",
       "      <td>-8.593526</td>\n",
       "    </tr>\n",
       "    <tr>\n",
       "      <th>70</th>\n",
       "      <td>-6.112885</td>\n",
       "      <td>-8.653636</td>\n",
       "    </tr>\n",
       "    <tr>\n",
       "      <th>71</th>\n",
       "      <td>-2.224810</td>\n",
       "      <td>-10.114925</td>\n",
       "    </tr>\n",
       "    <tr>\n",
       "      <th>72</th>\n",
       "      <td>9.075503</td>\n",
       "      <td>2.127641</td>\n",
       "    </tr>\n",
       "  </tbody>\n",
       "</table>\n",
       "</div>"
      ],
      "text/plain": [
       "           x2         x3\n",
       "62  11.138733   3.351346\n",
       "63  -0.589903   5.173905\n",
       "64  -2.613381  -9.126996\n",
       "65  -3.904703  -9.883796\n",
       "66  -1.639095  -5.376892\n",
       "67  -4.351847  -9.424727\n",
       "68  -5.647433 -10.365238\n",
       "69  -1.848129  -8.593526\n",
       "70  -6.112885  -8.653636\n",
       "71  -2.224810 -10.114925\n",
       "72   9.075503   2.127641"
      ]
     },
     "execution_count": 112,
     "metadata": {},
     "output_type": "execute_result"
    }
   ],
   "source": [
    "keep = ['x2', 'x3']\n",
    "df_x23 = dataset[keep]\n",
    "df_x23.loc[62:72,:]"
   ]
  },
  {
   "cell_type": "markdown",
   "metadata": {},
   "source": [
    "For the second and thrid columns, calculate the number of null and not null values and verify that their sum equals the total number of rows"
   ]
  },
  {
   "cell_type": "code",
   "execution_count": 113,
   "metadata": {},
   "outputs": [
    {
     "name": "stdout",
     "output_type": "stream",
     "text": [
      "El numero de no nulos es:  770\n",
      "El numero de nulos es:  0\n",
      "La suma de no nulos y nulos es:  770\n",
      "El numero de registros es:  770\n"
     ]
    }
   ],
   "source": [
    "A = dataset.x1.notnull().sum()\n",
    "print('El numero de no nulos es: ',A)\n",
    "\n",
    "B = pd.isnull(dataset.x1).sum()\n",
    "print('El numero de nulos es: ',B)\n",
    "\n",
    "print('La suma de no nulos y nulos es: ',A+B)\n",
    "\n",
    "C = len(dataset.index)\n",
    "print('El numero de registros es: ',C)"
   ]
  },
  {
   "cell_type": "markdown",
   "metadata": {},
   "source": [
    "Discard the last column\n"
   ]
  },
  {
   "cell_type": "code",
   "execution_count": 114,
   "metadata": {},
   "outputs": [
    {
     "data": {
      "text/html": [
       "<div>\n",
       "<style scoped>\n",
       "    .dataframe tbody tr th:only-of-type {\n",
       "        vertical-align: middle;\n",
       "    }\n",
       "\n",
       "    .dataframe tbody tr th {\n",
       "        vertical-align: top;\n",
       "    }\n",
       "\n",
       "    .dataframe thead th {\n",
       "        text-align: right;\n",
       "    }\n",
       "</style>\n",
       "<table border=\"1\" class=\"dataframe\">\n",
       "  <thead>\n",
       "    <tr style=\"text-align: right;\">\n",
       "      <th></th>\n",
       "      <th>x1</th>\n",
       "      <th>x2</th>\n",
       "      <th>x3</th>\n",
       "    </tr>\n",
       "  </thead>\n",
       "  <tbody>\n",
       "    <tr>\n",
       "      <th>0</th>\n",
       "      <td>2.458777</td>\n",
       "      <td>-4.605414</td>\n",
       "      <td>-10.977418</td>\n",
       "    </tr>\n",
       "    <tr>\n",
       "      <th>1</th>\n",
       "      <td>2.565885</td>\n",
       "      <td>-5.761821</td>\n",
       "      <td>-12.398355</td>\n",
       "    </tr>\n",
       "    <tr>\n",
       "      <th>2</th>\n",
       "      <td>-8.285511</td>\n",
       "      <td>9.547537</td>\n",
       "      <td>1.634268</td>\n",
       "    </tr>\n",
       "    <tr>\n",
       "      <th>3</th>\n",
       "      <td>-7.009352</td>\n",
       "      <td>10.451702</td>\n",
       "      <td>0.171169</td>\n",
       "    </tr>\n",
       "    <tr>\n",
       "      <th>4</th>\n",
       "      <td>4.684864</td>\n",
       "      <td>-0.578750</td>\n",
       "      <td>-9.513837</td>\n",
       "    </tr>\n",
       "  </tbody>\n",
       "</table>\n",
       "</div>"
      ],
      "text/plain": [
       "         x1         x2         x3\n",
       "0  2.458777  -4.605414 -10.977418\n",
       "1  2.565885  -5.761821 -12.398355\n",
       "2 -8.285511   9.547537   1.634268\n",
       "3 -7.009352  10.451702   0.171169\n",
       "4  4.684864  -0.578750  -9.513837"
      ]
     },
     "execution_count": 114,
     "metadata": {},
     "output_type": "execute_result"
    }
   ],
   "source": [
    "dataset.drop(['Unnamed: 0','x4'],axis='columns',inplace=True)\n",
    "dataset.head()"
   ]
  },
  {
   "cell_type": "markdown",
   "metadata": {},
   "source": [
    "### Questions \n",
    "\n",
    "Based on the previos results, provide a description of yout dataset\n",
    "\n",
    "Your response: Tres columnas de datos, con 770 registros, sin ningun dato nulo\n",
    "\n",
    "\n"
   ]
  },
  {
   "cell_type": "markdown",
   "metadata": {},
   "source": [
    "# A3 Data visualization"
   ]
  },
  {
   "cell_type": "markdown",
   "metadata": {},
   "source": [
    "Plot in the same figure the histogram of the two variables"
   ]
  },
  {
   "cell_type": "code",
   "execution_count": 115,
   "metadata": {},
   "outputs": [
    {
     "name": "stderr",
     "output_type": "stream",
     "text": [
      "C:\\Users\\Kevin Meza\\anaconda3\\lib\\site-packages\\seaborn\\distributions.py:2557: FutureWarning: `distplot` is a deprecated function and will be removed in a future version. Please adapt your code to use either `displot` (a figure-level function with similar flexibility) or `histplot` (an axes-level function for histograms).\n",
      "  warnings.warn(msg, FutureWarning)\n"
     ]
    },
    {
     "data": {
      "image/png": "[encoded data removed]",
      "text/plain": [
       "<Figure size 432x288 with 1 Axes>"
      ]
     },
     "metadata": {
      "needs_background": "light"
     },
     "output_type": "display_data"
    }
   ],
   "source": [
    "import seaborn as sns\n",
    "import matplotlib.pyplot as plt\n",
    "\n",
    "#plot con x1, x2 y x3\n",
    "sns.distplot(dataset[\"x1\"], kde = False)\n",
    "dfhist = sns.distplot(dataset[\"x2\"], kde = False)\n",
    "dfhist2 = sns.distplot(dataset[\"x3\"], kde = False)\n",
    "dfhist.set_ylabel(\"Frequency\")\n",
    "dfhist.set_title(\"Histogram of both x1 and x2\")\n",
    "\n",
    "\n",
    "plt.show()"
   ]
  },
  {
   "cell_type": "code",
   "execution_count": 116,
   "metadata": {},
   "outputs": [
    {
     "data": {
      "text/plain": [
       "<seaborn.axisgrid.PairGrid at 0x1845b399520>"
      ]
     },
     "execution_count": 116,
     "metadata": {},
     "output_type": "execute_result"
    },
    {
     "data": {
      "image/png": "[encoded data removed]",
      "text/plain": [
       "<Figure size 540x540 with 12 Axes>"
      ]
     },
     "metadata": {
      "needs_background": "light"
     },
     "output_type": "display_data"
    }
   ],
   "source": [
    "sns.pairplot(dataset)"
   ]
  },
  {
   "cell_type": "markdown",
   "metadata": {},
   "source": [
    "Based on this plots, provide a description of your data:\n",
    "\n",
    "Your response here: Podemos observar alrededor de dos o incluso tres clusters en nuestros datos"
   ]
  },
  {
   "cell_type": "markdown",
   "metadata": {},
   "source": [
    "Plot in the same figure the boxplot of the two variables "
   ]
  },
  {
   "cell_type": "code",
   "execution_count": 124,
   "metadata": {},
   "outputs": [
    {
     "data": {
      "image/png": "[encoded data removed]",
      "text/plain": [
       "<Figure size 1440x936 with 4 Axes>"
      ]
     },
     "metadata": {
      "needs_background": "light"
     },
     "output_type": "display_data"
    }
   ],
   "source": [
    "fig,axs=plt.subplots(2,2,figsize=(20,13))\n",
    "col=['x1', 'x2', 'x3']\n",
    "ax=axs.flatten()\n",
    "\n",
    "for i,j in enumerate(col):\n",
    "    sns.boxplot(x=dataset[j],ax=ax[i],color='red')"
   ]
  },
  {
   "cell_type": "code",
   "execution_count": 128,
   "metadata": {},
   "outputs": [
    {
     "data": {
      "text/plain": [
       "<AxesSubplot:>"
      ]
     },
     "execution_count": 128,
     "metadata": {},
     "output_type": "execute_result"
    },
    {
     "data": {
      "image/png": "[encoded data removed]",
      "text/plain": [
       "<Figure size 432x288 with 1 Axes>"
      ]
     },
     "metadata": {
      "needs_background": "light"
     },
     "output_type": "display_data"
    }
   ],
   "source": [
    "sns.boxplot(data=dataset, orient=\"v\", palette=\"Set2\")"
   ]
  },
  {
   "cell_type": "markdown",
   "metadata": {},
   "source": [
    "Scatter plot of the two variables"
   ]
  },
  {
   "cell_type": "code",
   "execution_count": 135,
   "metadata": {},
   "outputs": [
    {
     "data": {
      "image/png": "[encoded data removed]",
      "text/plain": [
       "<Figure size 432x288 with 1 Axes>"
      ]
     },
     "metadata": {
      "needs_background": "light"
     },
     "output_type": "display_data"
    }
   ],
   "source": [
    "plt.scatter(dataset.x3,dataset.x2)\n",
    "plt.title('x2 vs x3')\n",
    "plt.xlabel('x3')\n",
    "plt.ylabel('x2')\n",
    "plt.show()"
   ]
  },
  {
   "cell_type": "markdown",
   "metadata": {},
   "source": [
    "### Questions \n",
    "\n",
    "Based on the previos plots, provide a description of yout dataset\n",
    "\n",
    "Your response: podemos observar como al graficar nuestros registros podemos ver como se dividen en tres grupos, dos de ellos tan cercanos que parecen uno, de esto podriamos intuir que dentro de nuestros datos podriamos dividir en tres categorias nuestros registros, esto debido a la manera en como se agrupan\n",
    "\n",
    "\n"
   ]
  },
  {
   "cell_type": "markdown",
   "metadata": {},
   "source": [
    "# A4 Kmeans"
   ]
  },
  {
   "cell_type": "markdown",
   "metadata": {},
   "source": [
    "Do Kmeans clustering assuming a number of clusters accorging to your scatter plot"
   ]
  },
  {
   "cell_type": "code",
   "execution_count": 145,
   "metadata": {},
   "outputs": [
    {
     "data": {
      "text/plain": [
       "array([0, 0, 2, 2, 0, 2, 1, 0, 0, 2, 1, 0, 2, 2, 1, 1, 2, 0, 2, 2, 2, 2,\n",
       "       1, 2, 0, 2, 0, 1, 0, 1, 2, 0, 2, 0, 2, 0, 1, 1, 1, 1, 0, 0, 2, 2,\n",
       "       1, 1, 0, 0, 2, 0, 0, 2, 0, 1, 0, 2, 0, 0, 1, 2, 1, 1, 2, 1, 0, 0,\n",
       "       0, 0, 0, 0, 0, 0, 2, 0, 1, 2, 0, 0, 0, 1, 2, 1, 2, 0, 1, 0, 0, 1,\n",
       "       0, 0, 0, 2, 1, 1, 2, 0, 0, 0, 2, 1, 0, 2, 0, 2, 2, 1, 1, 1, 2, 2,\n",
       "       0, 0, 1, 1, 0, 0, 1, 2, 1, 1, 1, 0, 2, 1, 0, 1, 1, 0, 1, 2, 2, 0,\n",
       "       2, 2, 2, 0, 2, 0, 2, 1, 2, 0, 0, 0, 2, 2, 1, 2, 1, 1, 0, 2, 0, 0,\n",
       "       0, 1, 1, 0, 0, 2, 0, 1, 1, 1, 2, 1, 2, 0, 1, 2, 1, 0, 0, 2, 1, 0,\n",
       "       1, 0, 0, 0, 2, 2, 0, 0, 1, 1, 0, 1, 0, 2, 0, 0, 0, 2, 2, 2, 0, 2,\n",
       "       0, 0, 1, 1, 0, 0, 0, 1, 2, 1, 2, 2, 0, 2, 2, 1, 0, 2, 0, 1, 0, 0,\n",
       "       1, 2, 2, 2, 1, 1, 1, 2, 0, 2, 1, 1, 2, 1, 1, 1, 2, 1, 2, 0, 0, 1,\n",
       "       1, 2, 1, 2, 1, 2, 0, 2, 0, 1, 2, 0, 1, 0, 1, 1, 1, 2, 1, 0, 0, 1,\n",
       "       1, 1, 0, 1, 2, 2, 1, 2, 0, 2, 1, 1, 0, 2, 0, 2, 0, 2, 2, 2, 0, 1,\n",
       "       1, 0, 1, 1, 2, 1, 2, 1, 0, 1, 2, 1, 0, 1, 0, 1, 1, 2, 0, 1, 1, 1,\n",
       "       1, 2, 0, 1, 2, 0, 1, 2, 0, 1, 1, 2, 1, 2, 1, 0, 0, 1, 0, 2, 1, 2,\n",
       "       0, 0, 0, 1, 0, 0, 0, 0, 0, 0, 1, 1, 1, 0, 1, 1, 0, 1, 1, 2, 2, 2,\n",
       "       2, 0, 0, 2, 2, 0, 2, 0, 1, 0, 0, 2, 2, 0, 2, 0, 1, 0, 2, 2, 1, 0,\n",
       "       2, 0, 0, 1, 0, 0, 1, 2, 1, 0, 2, 0, 0, 1, 1, 2, 1, 1, 1, 2, 2, 2,\n",
       "       2, 0, 1, 0, 2, 1, 0, 2, 1, 2, 0, 1, 1, 2, 2, 2, 1, 0, 2, 0, 1, 1,\n",
       "       1, 2, 2, 0, 2, 2, 1, 2, 2, 0, 0, 1, 0, 2, 1, 0, 1, 1, 2, 2, 1, 1,\n",
       "       2, 2, 0, 0, 2, 2, 0, 1, 2, 2, 2, 0, 2, 2, 0, 1, 1, 0, 1, 1, 2, 2,\n",
       "       0, 2, 1, 0, 2, 1, 2, 2, 1, 0, 0, 0, 1, 1, 1, 1, 1, 1, 0, 1, 1, 1,\n",
       "       2, 1, 0, 2, 1, 2, 0, 1, 0, 2, 2, 0, 1, 1, 0, 1, 0, 1, 1, 1, 2, 0,\n",
       "       0, 2, 1, 2, 1, 0, 0, 1, 2, 2, 2, 2, 2, 2, 0, 0, 2, 2, 2, 2, 1, 1,\n",
       "       0, 1, 2, 2, 0, 2, 2, 1, 1, 2, 0, 0, 0, 1, 0, 1, 1, 1, 2, 0, 2, 2,\n",
       "       0, 1, 0, 0, 0, 2, 1, 2, 2, 1, 0, 2, 1, 2, 2, 0, 1, 0, 2, 2, 0, 1,\n",
       "       2, 1, 1, 2, 2, 2, 1, 1, 2, 2, 0, 1, 1, 1, 2, 0, 1, 0, 2, 1, 1, 0,\n",
       "       0, 2, 0, 2, 1, 1, 2, 2, 1, 1, 0, 0, 0, 0, 0, 0, 0, 2, 1, 1, 1, 2,\n",
       "       1, 2, 0, 0, 1, 2, 2, 2, 0, 2, 2, 2, 2, 1, 2, 2, 1, 1, 2, 0, 1, 2,\n",
       "       2, 2, 0, 0, 0, 2, 2, 2, 2, 0, 0, 0, 0, 1, 1, 0, 1, 0, 2, 0, 0, 0,\n",
       "       0, 1, 0, 1, 0, 0, 1, 1, 2, 1, 1, 2, 1, 0, 2, 0, 0, 2, 1, 2, 2, 0,\n",
       "       1, 2, 1, 1, 2, 0, 0, 1, 1, 1, 1, 0, 2, 2, 0, 2, 1, 2, 0, 0, 0, 2,\n",
       "       1, 2, 0, 1, 0, 1, 1, 2, 2, 0, 1, 0, 2, 1, 0, 1, 0, 0, 1, 2, 0, 2,\n",
       "       0, 1, 1, 1, 0, 2, 1, 2, 1, 0, 0, 2, 0, 0, 1, 2, 2, 1, 1, 1, 2, 1,\n",
       "       2, 1, 1, 2, 0, 1, 1, 0, 1, 1, 0, 1, 2, 2, 2, 2, 1, 1, 2, 0, 1, 2])"
      ]
     },
     "execution_count": 145,
     "metadata": {},
     "output_type": "execute_result"
    }
   ],
   "source": [
    "# Import sklearn KMeans\n",
    "from sklearn.cluster import KMeans\n",
    "\n",
    "# Define number of clusters\n",
    "km = KMeans(n_clusters=3)\n",
    "\n",
    "# Do K-means clustering (assing each point in the dataset to a cluster)\n",
    "yp = km.fit_predict(dataset[['x3','x2']])\n",
    "\n",
    "# Print estimated cluster of each point in the dataser\n",
    "yp"
   ]
  },
  {
   "cell_type": "markdown",
   "metadata": {},
   "source": [
    "Add to your dataset a column with the assihned cluster to each data point"
   ]
  },
  {
   "cell_type": "code",
   "execution_count": 146,
   "metadata": {},
   "outputs": [
    {
     "data": {
      "text/html": [
       "<div>\n",
       "<style scoped>\n",
       "    .dataframe tbody tr th:only-of-type {\n",
       "        vertical-align: middle;\n",
       "    }\n",
       "\n",
       "    .dataframe tbody tr th {\n",
       "        vertical-align: top;\n",
       "    }\n",
       "\n",
       "    .dataframe thead th {\n",
       "        text-align: right;\n",
       "    }\n",
       "</style>\n",
       "<table border=\"1\" class=\"dataframe\">\n",
       "  <thead>\n",
       "    <tr style=\"text-align: right;\">\n",
       "      <th></th>\n",
       "      <th>x1</th>\n",
       "      <th>x2</th>\n",
       "      <th>x3</th>\n",
       "      <th>Cluster1</th>\n",
       "    </tr>\n",
       "  </thead>\n",
       "  <tbody>\n",
       "    <tr>\n",
       "      <th>0</th>\n",
       "      <td>2.458777</td>\n",
       "      <td>-4.605414</td>\n",
       "      <td>-10.977418</td>\n",
       "      <td>0</td>\n",
       "    </tr>\n",
       "    <tr>\n",
       "      <th>1</th>\n",
       "      <td>2.565885</td>\n",
       "      <td>-5.761821</td>\n",
       "      <td>-12.398355</td>\n",
       "      <td>0</td>\n",
       "    </tr>\n",
       "    <tr>\n",
       "      <th>2</th>\n",
       "      <td>-8.285511</td>\n",
       "      <td>9.547537</td>\n",
       "      <td>1.634268</td>\n",
       "      <td>2</td>\n",
       "    </tr>\n",
       "    <tr>\n",
       "      <th>3</th>\n",
       "      <td>-7.009352</td>\n",
       "      <td>10.451702</td>\n",
       "      <td>0.171169</td>\n",
       "      <td>2</td>\n",
       "    </tr>\n",
       "    <tr>\n",
       "      <th>4</th>\n",
       "      <td>4.684864</td>\n",
       "      <td>-0.578750</td>\n",
       "      <td>-9.513837</td>\n",
       "      <td>0</td>\n",
       "    </tr>\n",
       "    <tr>\n",
       "      <th>...</th>\n",
       "      <td>...</td>\n",
       "      <td>...</td>\n",
       "      <td>...</td>\n",
       "      <td>...</td>\n",
       "    </tr>\n",
       "    <tr>\n",
       "      <th>765</th>\n",
       "      <td>-6.814725</td>\n",
       "      <td>2.432707</td>\n",
       "      <td>2.941625</td>\n",
       "      <td>1</td>\n",
       "    </tr>\n",
       "    <tr>\n",
       "      <th>766</th>\n",
       "      <td>-9.681889</td>\n",
       "      <td>10.212266</td>\n",
       "      <td>0.971539</td>\n",
       "      <td>2</td>\n",
       "    </tr>\n",
       "    <tr>\n",
       "      <th>767</th>\n",
       "      <td>4.769089</td>\n",
       "      <td>-3.967682</td>\n",
       "      <td>-9.778149</td>\n",
       "      <td>0</td>\n",
       "    </tr>\n",
       "    <tr>\n",
       "      <th>768</th>\n",
       "      <td>-8.858758</td>\n",
       "      <td>3.834403</td>\n",
       "      <td>3.415155</td>\n",
       "      <td>1</td>\n",
       "    </tr>\n",
       "    <tr>\n",
       "      <th>769</th>\n",
       "      <td>-11.651789</td>\n",
       "      <td>8.464210</td>\n",
       "      <td>1.085465</td>\n",
       "      <td>2</td>\n",
       "    </tr>\n",
       "  </tbody>\n",
       "</table>\n",
       "<p>770 rows × 4 columns</p>\n",
       "</div>"
      ],
      "text/plain": [
       "            x1         x2         x3  Cluster1\n",
       "0     2.458777  -4.605414 -10.977418         0\n",
       "1     2.565885  -5.761821 -12.398355         0\n",
       "2    -8.285511   9.547537   1.634268         2\n",
       "3    -7.009352  10.451702   0.171169         2\n",
       "4     4.684864  -0.578750  -9.513837         0\n",
       "..         ...        ...        ...       ...\n",
       "765  -6.814725   2.432707   2.941625         1\n",
       "766  -9.681889  10.212266   0.971539         2\n",
       "767   4.769089  -3.967682  -9.778149         0\n",
       "768  -8.858758   3.834403   3.415155         1\n",
       "769 -11.651789   8.464210   1.085465         2\n",
       "\n",
       "[770 rows x 4 columns]"
      ]
     },
     "execution_count": 146,
     "metadata": {},
     "output_type": "execute_result"
    }
   ],
   "source": [
    "# Add a new column to the dataset with the cluster information\n",
    "dataset['Cluster1'] = yp\n",
    "\n",
    "# Visualize the dataset\n",
    "dataset"
   ]
  },
  {
   "cell_type": "markdown",
   "metadata": {},
   "source": [
    "Print the number associated to each cluster"
   ]
  },
  {
   "cell_type": "code",
   "execution_count": 147,
   "metadata": {},
   "outputs": [
    {
     "data": {
      "text/plain": [
       "array([0, 2, 1])"
      ]
     },
     "execution_count": 147,
     "metadata": {},
     "output_type": "execute_result"
    }
   ],
   "source": [
    "# Visualize the ID of the clusters\n",
    "dataset.Cluster1.unique()"
   ]
  },
  {
   "cell_type": "markdown",
   "metadata": {},
   "source": [
    "Print the centroids"
   ]
  },
  {
   "cell_type": "code",
   "execution_count": 148,
   "metadata": {},
   "outputs": [
    {
     "data": {
      "text/plain": [
       "array([[-8.83995407, -3.42793916],\n",
       "       [ 2.69067156,  3.2884768 ],\n",
       "       [ 1.73617732,  9.28714133]])"
      ]
     },
     "execution_count": 148,
     "metadata": {},
     "output_type": "execute_result"
    }
   ],
   "source": [
    "# Center of each cluster\n",
    "km.cluster_centers_"
   ]
  },
  {
   "cell_type": "markdown",
   "metadata": {},
   "source": [
    "Print the intertia metric"
   ]
  },
  {
   "cell_type": "code",
   "execution_count": 149,
   "metadata": {},
   "outputs": [
    {
     "data": {
      "text/plain": [
       "3530.8233190845863"
      ]
     },
     "execution_count": 149,
     "metadata": {},
     "output_type": "execute_result"
    }
   ],
   "source": [
    "# Sum of squared error\n",
    "km.inertia_"
   ]
  },
  {
   "cell_type": "markdown",
   "metadata": {},
   "source": [
    "Plot a scatter plot of your data assigned to each cluster. Also plot the centroids"
   ]
  },
  {
   "cell_type": "code",
   "execution_count": 150,
   "metadata": {},
   "outputs": [
    {
     "name": "stderr",
     "output_type": "stream",
     "text": [
      "<ipython-input-150-44a041140f1d>:5: MatplotlibDeprecationWarning: Case-insensitive properties were deprecated in 3.3 and support will be removed two minor releases later\n",
      "  plt.scatter(df1.x3, df1.x2, Label='Estimated Group 1')\n",
      "<ipython-input-150-44a041140f1d>:6: MatplotlibDeprecationWarning: Case-insensitive properties were deprecated in 3.3 and support will be removed two minor releases later\n",
      "  plt.scatter(df2.x3, df2.x2, Label='Estimated Group 2')\n",
      "<ipython-input-150-44a041140f1d>:7: MatplotlibDeprecationWarning: Case-insensitive properties were deprecated in 3.3 and support will be removed two minor releases later\n",
      "  plt.scatter(df3.x3, df3.x2, Label='Estimated Group 3')\n"
     ]
    },
    {
     "data": {
      "image/png": "[encoded data removed]",
      "text/plain": [
       "<Figure size 432x288 with 1 Axes>"
      ]
     },
     "metadata": {
      "needs_background": "light"
     },
     "output_type": "display_data"
    }
   ],
   "source": [
    "df1 = dataset[dataset.Cluster1==0]\n",
    "df2 = dataset[dataset.Cluster1==1]\n",
    "df3 = dataset[dataset.Cluster1==2]\n",
    "\n",
    "plt.scatter(df1.x3, df1.x2, Label='Estimated Group 1')\n",
    "plt.scatter(df2.x3, df2.x2, Label='Estimated Group 2')\n",
    "plt.scatter(df3.x3, df3.x2, Label='Estimated Group 3')\n",
    "\n",
    "plt.scatter(km.cluster_centers_[:,0], km.cluster_centers_[:,1], color='magenta', marker='*', label='Centroides', s=256)\n",
    "\n",
    "plt.title('x2 vs x3')\n",
    "plt.xlabel('x3')\n",
    "plt.ylabel('x2')\n",
    "plt.legend()\n",
    "plt.show()"
   ]
  },
  {
   "cell_type": "markdown",
   "metadata": {},
   "source": [
    "### Questions \n",
    "\n",
    "Provides a detailed description of your results\n",
    "\n",
    "Your response: Aqui podemos ver claramente lo que ya comentabamos anteriormente, tenemos tres grupos estimados en los que aparentemente se dividen nuestros registros"
   ]
  },
  {
   "cell_type": "markdown",
   "metadata": {},
   "source": [
    "# A4 Elbow plot\n",
    "\n",
    "Compute the Elbow plot"
   ]
  },
  {
   "cell_type": "code",
   "execution_count": 151,
   "metadata": {},
   "outputs": [
    {
     "name": "stderr",
     "output_type": "stream",
     "text": [
      "C:\\Users\\Kevin Meza\\anaconda3\\lib\\site-packages\\sklearn\\cluster\\_kmeans.py:881: UserWarning: KMeans is known to have a memory leak on Windows with MKL, when there are less chunks than available threads. You can avoid it by setting the environment variable OMP_NUM_THREADS=4.\n",
      "  warnings.warn(\n"
     ]
    }
   ],
   "source": [
    "sse = []\n",
    "k_rng = range(1,10)\n",
    "for k in k_rng:\n",
    "    km = KMeans(n_clusters=k)\n",
    "    km.fit_predict(dataset[['x3','x2']])\n",
    "    sse.append(km.inertia_)"
   ]
  },
  {
   "cell_type": "code",
   "execution_count": 152,
   "metadata": {},
   "outputs": [
    {
     "data": {
      "image/png": "[encoded data removed]",
      "text/plain": [
       "<Figure size 432x288 with 1 Axes>"
      ]
     },
     "metadata": {
      "needs_background": "light"
     },
     "output_type": "display_data"
    }
   ],
   "source": [
    "plt.plot(k_rng,sse)\n",
    "\n",
    "plt.title('Elbow plot')\n",
    "plt.xlabel('K')\n",
    "plt.ylabel('Sum of squared error')\n",
    "plt.show()"
   ]
  },
  {
   "cell_type": "markdown",
   "metadata": {},
   "source": [
    "### Questions \n",
    "\n",
    "What is the best number of clusters K? (argue your response)\n",
    "\n",
    "Your response: Aqui podemos ver como el utilizar tres clusters fue una muy buena opcion, pues al utilizar tres el numerode errores cuadrados cae incluso a la mitad con respecto al uso de dos\n",
    "\n",
    "\n",
    "Does this number of clusters agree with your inital guess? (argue your response)\n",
    "\n",
    "Your response: Si, justo como plante al principio con la graficacion, parecen ser dos, pero se puede apreciar que hay dos muy cercanos\n",
    "\n"
   ]
  },
  {
   "cell_type": "markdown",
   "metadata": {},
   "source": [
    "# BONUS"
   ]
  },
  {
   "cell_type": "markdown",
   "metadata": {},
   "source": [
    "1) Generate some data using the \"make_blobs\" function from \"sklearn.datasets\"\n",
    "\n",
    "- The number of observations is equal to the three last digits in your ID\n",
    "\n",
    "- 2 variables\n",
    "\n",
    "- 4 clusters\n",
    "\n",
    "- Standar deviation of each cluster of 1.5\n",
    "\n"
   ]
  },
  {
   "cell_type": "code",
   "execution_count": null,
   "metadata": {},
   "outputs": [],
   "source": []
  },
  {
   "cell_type": "markdown",
   "metadata": {},
   "source": [
    "2) Plot the scatter plot of your data using the real cluster labels"
   ]
  },
  {
   "cell_type": "code",
   "execution_count": null,
   "metadata": {},
   "outputs": [],
   "source": []
  },
  {
   "cell_type": "markdown",
   "metadata": {},
   "source": [
    "3) Do K means clustering "
   ]
  },
  {
   "cell_type": "code",
   "execution_count": null,
   "metadata": {},
   "outputs": [],
   "source": []
  },
  {
   "cell_type": "markdown",
   "metadata": {},
   "source": [
    "4) Plot the scatter plot of your data using the estimated cluster labels"
   ]
  },
  {
   "cell_type": "code",
   "execution_count": null,
   "metadata": {},
   "outputs": [],
   "source": []
  },
  {
   "cell_type": "markdown",
   "metadata": {},
   "source": [
    "### Questions \n",
    "\n",
    "Provides a detailed description of your results.\n",
    "\n",
    "Your response:"
   ]
  },
  {
   "cell_type": "markdown",
   "metadata": {},
   "source": [
    "# Descipcion de tu percepcion del nivel de desarrollo de la subcompetencia \n",
    "\n",
    "### SING0202A Interpretación de variables\n"
   ]
  },
  {
   "cell_type": "markdown",
   "metadata": {},
   "source": [
    "Escribe tu description del nivel de logro del siguiente criterio de la subcompetencia\n",
    "\n",
    "**Interpreta interacciones**. Interpreta interacciones entre variables relevantes en un problema, como base para la construcción de modelos bivariados basados en datos de un fenómeno investigado que le permita reproducir la respuesta del mismo."
   ]
  },
  {
   "cell_type": "markdown",
   "metadata": {},
   "source": [
    "Tu respuesta: Poder identificar como intereaccionan los dintintos datos entre ellos, para asi identificar patrones por medio de su manipulacion y graficacion justo como realizamos en esta actividad, para apartir de estas graficas poder extraer conclusiones en base a los modelos generados con los datos."
   ]
  },
  {
   "cell_type": "markdown",
   "metadata": {},
   "source": [
    "Escribe tu description del nivel de logro del siguiente criterio de la subcompetencia\n",
    "\n",
    "**Construcción de modelos**. Es capaz de construir modelos bivariados que expliquen el comportamiento de un fenómeno."
   ]
  },
  {
   "cell_type": "markdown",
   "metadata": {},
   "source": [
    "Tu respuesta: El poder generar graficos variados dependiendo de los datos obtenidos, ya que el correcto procesamiento de los mismos en modelos idoneos nos permiten interpretar de manera correcta los datos, pues hay que saber que tipo de grafico utilizaremos con respecto a los datos que se nos presentan"
   ]
  },
  {
   "cell_type": "code",
   "execution_count": null,
   "metadata": {},
   "outputs": [],
   "source": []
  }
 ],
 "metadata": {
  "kernelspec": {
   "display_name": "Python 3",
   "language": "python",
   "name": "python3"
  },
  "language_info": {
   "codemirror_mode": {
    "name": "ipython",
    "version": 3
   },
   "file_extension": ".py",
   "mimetype": "text/x-python",
   "name": "python",
   "nbconvert_exporter": "python",
   "pygments_lexer": "ipython3",
   "version": "3.8.8"
  }
 },
 "nbformat": 4,
 "nbformat_minor": 2
}
